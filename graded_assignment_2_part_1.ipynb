{
 "cells": [
  {
   "cell_type": "markdown",
   "metadata": {},
   "source": [
    "# Graded Lab Assignment 2: Evaluate classifiers (10 points)\n",
    " \n",
    "In this assignment you will optimize and compare the perfomance of a parametric (logistic regression) and non-parametric (k-nearest neighbours) classifier on the MNIST dataset.\n",
    "\n",
    "Publish your notebook (ipynb file) to your Machine Learning repository on Github ON TIME. We will check the last commit on the day of the deadline.  \n",
    "\n",
    "### Deadline Friday, November 17, 23:59.\n",
    "\n",
    "This notebook consists of three parts: design, implementation, results & analysis. \n",
    "We provide you with the design of the experiment and you have to implement it and analyse the results.\n",
    "\n",
    "### Criteria used for grading\n",
    "* Explain and analyse all results.\n",
    "* Make your notebook easy to read. When you are finished take your time to review it!\n",
    "* You do not want to repeat the same chunks of code multiply times. If your need to do so, write a function. \n",
    "* The implementation part of this assignment needs careful design before you start coding. You could start by writing pseudocode.\n",
    "* In this exercise the insights are important. Do not hide them somewhere in the comments in the implementation, but put them in the Analysis part\n",
    "* Take care that all the figures and tables are well labeled and numbered so that you can easily refer to them.\n",
    "* A plot should have a title and axes labels.\n",
    "* You may find that not everything is 100% specified in this assignment. That is correct! Like in real life you probably have to make some choices. Motivate your choices.\n"
   ]
  },
  {
   "cell_type": "markdown",
   "metadata": {},
   "source": [
    "### Grading points distribution\n",
    "\n",
    "* Implementation 5 points\n",
    "* Results and analysis 5 points"
   ]
  },
  {
   "cell_type": "markdown",
   "metadata": {},
   "source": [
    "## Design of the experiment"
   ]
  },
  {
   "cell_type": "markdown",
   "metadata": {},
   "source": [
    "You do not have to keep the order of this design and are allowed to alter it if you are confident.\n",
    "* Import all necessary modules. Try to use as much of the available functions as possible. \n",
    "* Use the provided train and test set of MNIST dataset.\n",
    "* Pre-process data eg. normalize/standardize, reformat, etc.           \n",
    "  Do whatever you think is necessary and motivate your choices. What if it also works now???\n",
    "* (1) Train logistic regression and k-nn using default settings.\n",
    "* Use 10-fold cross validation for each classifier to optimize the performance for one parameter: \n",
    "    * consult the documentation on how cross validation works in sklearn (important functions:             cross_val_score(), GridSearchCV()).\n",
    "    * Optimize k for k-nn,\n",
    "    * for logistic regression focus on the regularization parameter,\n",
    "* (2) Train logistic regression and k-nn using optimized parameters.\n",
    "* Show performance on the cross-validation set for (1) and (2) for both classifiers: \n",
    "    * report the average cross validation error rates (alternatively, the average accuracies - it's up to you) and standard deviation,\n",
    "    * plot the average cross valildation errors (or accuracies) for different values of the parameter that you tuned. \n",
    "* Compare performance on the test set for two classifiers:\n",
    "    * produce the classification report for both classifiers, consisting of precision, recall, f1-score. Explain and analyse the results.\n",
    "    * print confusion matrix for both classifiers and compare whether they missclassify the same  classes. Explain and analyse the results.\n",
    "* Discuss your results.\n",
    "* BONUS: only continue with this part if you are confident that your implemention is complete \n",
    "    * tune more parameters of logistic regression\n",
    "    * add additional classifiers (NN, Naive Bayes, decision tree), \n",
    "    * analyse additional dataset (ex. Iris dataset)"
   ]
  },
  {
   "cell_type": "markdown",
   "metadata": {},
   "source": [
    "## Implementation of the experiment"
   ]
  },
  {
   "cell_type": "code",
   "execution_count": 1,
   "metadata": {
    "collapsed": false
   },
   "outputs": [],
   "source": [
    "from sklearn.datasets import load_digits\n",
    "import numpy as np \n",
    "# load mnist dataset and split in train and test set.\n",
    "digits = load_digits()\n",
    "X_train_mnist = np.reshape(digits.images[:1500],(1500,64))\n",
    "X_test_mnist = np.reshape(digits.images[1500:],(297,64))\n",
    "y_train_mnist = digits.target[:1500]\n",
    "y_test_mnist = digits.target[1500:]"
   ]
  },
  {
   "cell_type": "code",
   "execution_count": 2,
   "metadata": {
    "collapsed": true
   },
   "outputs": [],
   "source": [
    "#Import the necessary modules \n",
    "from sklearn.linear_model import LogisticRegression\n",
    "from sklearn.preprocessing import StandardScaler\n",
    "from sklearn.neighbors import KNeighborsClassifier\n",
    "from sklearn import svm\n",
    "from sklearn.svm import SVC\n",
    "from sklearn.model_selection import GridSearchCV\n",
    "from sklearn.model_selection import cross_val_score\n",
    "import matplotlib.pyplot as plt\n",
    "from sklearn.metrics import classification_report\n",
    "from sklearn.metrics import confusion_matrix\n",
    "from sklearn.model_selection import RandomizedSearchCV"
   ]
  },
  {
   "cell_type": "code",
   "execution_count": 3,
   "metadata": {
    "collapsed": false
   },
   "outputs": [
    {
     "name": "stdout",
     "output_type": "stream",
     "text": [
      "[[  0.   0.   5. ...,   0.   0.   0.]\n",
      " [  0.   0.   0. ...,  10.   0.   0.]\n",
      " [  0.   0.   0. ...,  16.   9.   0.]\n",
      " ..., \n",
      " [  0.   0.   0. ...,   9.   0.   0.]\n",
      " [  0.   1.   9. ...,   9.   1.   0.]\n",
      " [  0.   5.  16. ...,   8.   6.   0.]] \n",
      "\n",
      "[[  0.   0.   0. ...,  13.   2.   0.]\n",
      " [  0.   0.   2. ...,   0.   0.   0.]\n",
      " [  0.   0.   0. ...,   0.   0.   0.]\n",
      " ..., \n",
      " [  0.   0.   1. ...,   6.   0.   0.]\n",
      " [  0.   0.   2. ...,  12.   0.   0.]\n",
      " [  0.   0.  10. ...,  12.   1.   0.]] \n",
      "\n",
      "[0 1 2 ..., 6 3 2] \n",
      "\n",
      "[1 7 4 6 3 1 3 9 1 7 6 8 4 3 1 4 0 5 3 6 9 6 1 7 5 4 4 7 2 8 2 2 5 7 9 5 4\n",
      " 8 8 4 9 0 8 9 8 0 1 2 3 4 5 6 7 8 9 0 1 2 3 4 5 6 9 0 1 2 3 4 5 6 7 8 9 0\n",
      " 9 5 5 6 5 0 9 8 9 8 4 1 7 7 3 5 1 0 0 2 2 7 8 2 0 1 2 6 3 3 7 3 3 4 6 6 6\n",
      " 4 9 1 5 0 9 5 2 8 0 1 7 6 3 2 1 7 4 6 3 1 3 9 1 7 6 8 4 3 1 4 0 5 3 6 9 6\n",
      " 1 7 5 4 4 7 2 2 5 7 9 5 4 4 9 0 8 9 8 0 1 2 3 4 5 6 7 8 9 0 1 2 3 4 5 6 7\n",
      " 8 9 0 1 2 3 4 5 6 7 8 9 0 9 5 5 6 5 0 9 8 9 8 4 1 7 7 3 5 1 0 0 2 2 7 8 2\n",
      " 0 1 2 6 3 3 7 3 3 4 6 6 6 4 9 1 5 0 9 5 2 8 2 0 0 1 7 6 3 2 1 7 4 6 3 1 3\n",
      " 9 1 7 6 8 4 3 1 4 0 5 3 6 9 6 1 7 5 4 4 7 2 8 2 2 5 7 9 5 4 8 8 4 9 0 8 9\n",
      " 8] \n",
      "\n"
     ]
    }
   ],
   "source": [
    "#print the data such that we can visualize it\n",
    "print((X_train_mnist), \n",
    "      '\\n')\n",
    "print((X_test_mnist),\n",
    "      '\\n')\n",
    "print((y_train_mnist),\n",
    "      '\\n')\n",
    "print((y_test_mnist),\n",
    "      '\\n')\n"
   ]
  },
  {
   "cell_type": "markdown",
   "metadata": {},
   "source": [
    "There is no need to standardize or normalize our data because of the folliwing reasons.\n",
    "\n",
    "If we look at the data printed above we see that everything is within the range of 1 to 20, which is an small enough range.\n",
    "\n",
    "For the K-nn algorithm, this algorithm computes the distances to its neighbours and then decides according to its k nearest neighbours what the class of the node is. The algorithm does not become faster if we make our data be in a shorter range, which will lead do smaller distances between the points. \n",
    "\n",
    "For logistic regression, we standardize or normalize our data, since if very big number it becomes very hard to perform matrix multiplicationwe have quadratic matrix multiplications. However, we know that we are dealing with linear logistic regression, and the range of our data set is narrow as well so therefore we do not have to standardize or normalize our data. "
   ]
  },
  {
   "cell_type": "code",
   "execution_count": 4,
   "metadata": {
    "collapsed": false
   },
   "outputs": [
    {
     "name": "stdout",
     "output_type": "stream",
     "text": [
      "{'n_neighbors': 1}\n",
      "{'C': 0.01}\n"
     ]
    }
   ],
   "source": [
    "#Train logistic regression and k-nn using default settings.\n",
    "#Optimize k for k-nn,\n",
    "Knn = KNeighborsClassifier()\n",
    "parametersK = {'n_neighbors': np.arange(1,20)} \n",
    "clfK = GridSearchCV(Knn, parametersK)\n",
    "clfK.fit(X_train_mnist, y_train_mnist)\n",
    "print(clfK.best_params_)\n",
    "\n",
    "\n",
    "#for logistic regression focus on the regularization parameter\n",
    "LR = LogisticRegression()\n",
    "parametersLR = {'C': np.arange(0.01, 10)}\n",
    "clf = GridSearchCV(LR, parametersLR) \n",
    "clf.fit(X_train_mnist, y_train_mnist)\n",
    "print(clf.best_params_)"
   ]
  },
  {
   "cell_type": "code",
   "execution_count": 5,
   "metadata": {
    "collapsed": true
   },
   "outputs": [],
   "source": [
    "#we cross validate in these functions and determine the average accuracy and standard deviation\n",
    "\n",
    "def av_accuracy(type, Xset, Yset):\n",
    "    av_acc = np.mean(cross_val_score(type, Xset, Yset, cv=10))\n",
    "    return av_acc\n",
    "\n",
    "def standarddev(type, Xset, Yset):\n",
    "    std = np.std(cross_val_score(type, Xset, Yset, cv=10))\n",
    "    return std"
   ]
  },
  {
   "cell_type": "code",
   "execution_count": 6,
   "metadata": {
    "collapsed": false
   },
   "outputs": [
    {
     "name": "stdout",
     "output_type": "stream",
     "text": [
      "The average accuracy under Logistic Regression with default parameters is:         0.942841934708\n",
      "The standard deviation under Logistic Regression with default parameters is:       0.0179428426554 \n",
      "\n",
      "The average accuracy under K-nn with default parameters is:                        0.969568068457\n",
      "The standard deviation under K-nn with default parameters is:                      0.021372714321 \n",
      "\n",
      "The average accuracy under Logistic Regression with optimized parameters is:       0.952847426302\n",
      "The standard deviation under Logistic Regression with optimized parameters is:     0.0176755181395 \n",
      "\n",
      "The average accuracy under K-nn with optimized parameters is:                      0.978226258333\n",
      "The standard deviation under K-nn with optimized parameters is:                    0.023415643686\n"
     ]
    }
   ],
   "source": [
    "#print the accuracies and standard deviation of Logistic regression and K-nn using default parameters on train set\n",
    "print(\"The average accuracy under Logistic Regression with default parameters is:        \", \n",
    "      av_accuracy(LR, X_train_mnist, y_train_mnist))\n",
    "print(\"The standard deviation under Logistic Regression with default parameters is:      \", \n",
    "      standarddev(LR, X_train_mnist, y_train_mnist),\n",
    "     \"\\n\")\n",
    "\n",
    "print(\"The average accuracy under K-nn with default parameters is:                       \", \n",
    "      av_accuracy(Knn, X_train_mnist, y_train_mnist))\n",
    "print(\"The standard deviation under K-nn with default parameters is:                     \", \n",
    "      standarddev(Knn, X_train_mnist, y_train_mnist),\n",
    "     \"\\n\")\n",
    "\n",
    "\n",
    "\n",
    "#Train logistic regression using optimized parameters.\n",
    "LR_opt = LogisticRegression(C=0.1)\n",
    "LR_opt.fit(X_train_mnist, y_train_mnist)\n",
    "\n",
    "#print the accuracies and standard deviation of Logistic regression and K-nn using optimized parameters on train set\n",
    "print(\"The average accuracy under Logistic Regression with optimized parameters is:      \", \n",
    "      av_accuracy(LR_opt, X_train_mnist, y_train_mnist))\n",
    "print(\"The standard deviation under Logistic Regression with optimized parameters is:    \", \n",
    "      standarddev(LR_opt, X_train_mnist, y_train_mnist),\n",
    "     \"\\n\")\n",
    "\n",
    "#Train K-nn using optimized parameters\n",
    "Knn_opt = KNeighborsClassifier(n_neighbors=1)\n",
    "Knn_opt.fit = (X_train_mnist, y_train_mnist)\n",
    "\n",
    "print(\"The average accuracy under K-nn with optimized parameters is:                     \", \n",
    "      av_accuracy(Knn_opt, X_train_mnist, y_train_mnist))\n",
    "print(\"The standard deviation under K-nn with optimized parameters is:                   \", \n",
    "      standarddev(Knn_opt, X_train_mnist, y_train_mnist))\n"
   ]
  },
  {
   "cell_type": "code",
   "execution_count": 7,
   "metadata": {
    "collapsed": false
   },
   "outputs": [
    {
     "name": "stdout",
     "output_type": "stream",
     "text": [
      "The average accuracy under Logistic Regression with default parameters is:         0.917677388323\n",
      "The standard deviation under Logistic Regression with optimized parameters is:     0.048205432794 \n",
      "\n",
      "The average accuracy under K-nn with default parameters is:                        0.948066688389\n",
      "The standard deviation under K-nn with default parameters is:                      0.0490240354803 \n",
      "\n",
      "The average accuracy under Logistic Regression with optimized parameters is:       0.921078061723\n",
      "The standard deviation under Logistic Regression with optimized parameters is:     0.0514557440459 \n",
      "\n",
      "The average accuracy under K-nn with optimized parameters is:                      0.978226258333\n",
      "The standard deviation under K-nn with optimized parameters is:                    0.023415643686\n"
     ]
    }
   ],
   "source": [
    "#Print the average accuracies and standard deviations using default parameters of Logistic regression and \n",
    "#K-nn on the test set\n",
    "print(\"The average accuracy under Logistic Regression with default parameters is:        \", \n",
    "      av_accuracy(LR, X_test_mnist, y_test_mnist))\n",
    "print(\"The standard deviation under Logistic Regression with optimized parameters is:    \", \n",
    "      standarddev(LR, X_test_mnist, y_test_mnist),\n",
    "     \"\\n\")\n",
    "\n",
    "print(\"The average accuracy under K-nn with default parameters is:                       \", \n",
    "      av_accuracy(Knn, X_test_mnist, y_test_mnist))\n",
    "print(\"The standard deviation under K-nn with default parameters is:                     \", \n",
    "      standarddev(Knn, X_test_mnist, y_test_mnist),\n",
    "     \"\\n\")\n",
    "\n",
    "#Print the average accuracies and standard deviations using optimized parameters of Logistic regression and\n",
    "#K-nn on the test set\n",
    "print(\"The average accuracy under Logistic Regression with optimized parameters is:      \", \n",
    "      av_accuracy(LR_opt, X_test_mnist, y_test_mnist))\n",
    "print(\"The standard deviation under Logistic Regression with optimized parameters is:    \", \n",
    "      standarddev(LR_opt, X_test_mnist, y_test_mnist),\n",
    "     \"\\n\")\n",
    "\n",
    "print(\"The average accuracy under K-nn with optimized parameters is:                     \", \n",
    "      av_accuracy(Knn_opt, X_train_mnist, y_train_mnist))\n",
    "print(\"The standard deviation under K-nn with optimized parameters is:                   \", \n",
    "      standarddev(Knn_opt, X_train_mnist, y_train_mnist))\n"
   ]
  },
  {
   "cell_type": "code",
   "execution_count": 8,
   "metadata": {
    "collapsed": false
   },
   "outputs": [
    {
     "data": {
      "image/png": "[encoded data removed]",
      "text/plain": [
       "<matplotlib.figure.Figure at 0x106d5dc50>"
      ]
     },
     "metadata": {},
     "output_type": "display_data"
    },
    {
     "data": {
      "image/png": "[encoded data removed]",
      "text/plain": [
       "<matplotlib.figure.Figure at 0x10f7ba400>"
      ]
     },
     "metadata": {},
     "output_type": "display_data"
    }
   ],
   "source": [
    "#Plot graph for different values of K\n",
    "\n",
    "#In the bonus I created a function for this, but when we use the function here it takes very long\n",
    "#for the function to output, therefore I create the points here \"manually\"\n",
    "Knn2 = KNeighborsClassifier(n_neighbors=2)\n",
    "Knn2.fit = (X_train_mnist, y_train_mnist)\n",
    "Knn3 = KNeighborsClassifier(n_neighbors=3)\n",
    "Knn3.fit = (X_train_mnist, y_train_mnist)\n",
    "Knn4 = KNeighborsClassifier(n_neighbors = 4)\n",
    "Knn4.fit = (X_train_mnist, y_train_mnist)\n",
    "Knn5 = KNeighborsClassifier(n_neighbors = 5)\n",
    "Knn5.fit = (X_train_mnist, y_train_mnist)\n",
    "Knn6 = KNeighborsClassifier(n_neighbors = 6)\n",
    "Knn6.fit = (X_train_mnist, y_train_mnist)\n",
    "Knn7 = KNeighborsClassifier(n_neighbors = 7)\n",
    "Knn7.fit = (X_train_mnist, y_train_mnist)\n",
    "\n",
    "\n",
    "plt.plot([1, 2, 3, 4,5,6,7], [av_accuracy(Knn_opt,X_train_mnist, y_train_mnist), av_accuracy(Knn2, X_train_mnist, y_train_mnist), av_accuracy(Knn3, X_train_mnist, y_train_mnist), av_accuracy(Knn4, X_train_mnist, y_train_mnist), av_accuracy(Knn5, X_train_mnist, y_train_mnist), av_accuracy(Knn6, X_train_mnist, y_train_mnist), av_accuracy(Knn7, X_train_mnist, y_train_mnist)], \"ro\")\n",
    "plt.ylabel('accuracy')\n",
    "plt.xlabel('number of neighbours')\n",
    "plt.title('plot different values of k')\n",
    "plt.show()\n",
    "\n",
    "#Plot graph for different values of C\n",
    "LR2 = LogisticRegression(C=0.1)\n",
    "LR2.fit(X_train_mnist, y_train_mnist)\n",
    "LR3 = LogisticRegression(C=1)\n",
    "LR3.fit(X_train_mnist, y_train_mnist)\n",
    "LR4 = LogisticRegression(C=10)\n",
    "LR4.fit(X_train_mnist, y_train_mnist)\n",
    "LR5 = LogisticRegression(C=0.05)\n",
    "LR5.fit(X_train_mnist, y_train_mnist)\n",
    "LR6 = LogisticRegression(C=0.07)\n",
    "LR6.fit(X_train_mnist, y_train_mnist)\n",
    "LR7 = LogisticRegression(C=0.3)\n",
    "LR7.fit(X_train_mnist, y_train_mnist)\n",
    "LR8 = LogisticRegression(C=0.5)\n",
    "LR8.fit(X_train_mnist, y_train_mnist)\n",
    "LR9 = LogisticRegression(C=0.7)\n",
    "LR9.fit(X_train_mnist, y_train_mnist)\n",
    "\n",
    "\n",
    "plt.plot([0.01, 0.05, 0.07, 0.1, 0.3, 0.5, 0.7, 1], [av_accuracy(LR_opt, X_train_mnist, y_train_mnist), av_accuracy(LR2, X_train_mnist, y_train_mnist), av_accuracy(LR3, X_train_mnist, y_train_mnist), av_accuracy(LR5, X_train_mnist, y_train_mnist), av_accuracy(LR6, X_train_mnist, y_train_mnist), av_accuracy(LR7, X_train_mnist, y_train_mnist), av_accuracy(LR8, X_train_mnist, y_train_mnist), av_accuracy(LR9, X_train_mnist, y_train_mnist)], 'ro')\n",
    "plt.ylabel('accuracy')\n",
    "plt.xlabel('value of C')\n",
    "plt.title('plot different values for C')\n",
    "plt.show()"
   ]
  },
  {
   "cell_type": "code",
   "execution_count": 9,
   "metadata": {
    "collapsed": false
   },
   "outputs": [
    {
     "name": "stdout",
     "output_type": "stream",
     "text": [
      "classification report of Logistic regression classifier \n",
      " \n",
      "              precision    recall  f1-score   support\n",
      "\n",
      "          0       1.00      0.96      0.98        27\n",
      "          1       0.79      0.84      0.81        31\n",
      "          2       1.00      1.00      1.00        27\n",
      "          3       0.86      0.63      0.73        30\n",
      "          4       0.97      0.91      0.94        33\n",
      "          5       0.91      0.97      0.94        30\n",
      "          6       1.00      1.00      1.00        30\n",
      "          7       0.90      0.90      0.90        30\n",
      "          8       0.68      0.93      0.79        28\n",
      "          9       0.89      0.81      0.85        31\n",
      "\n",
      "avg / total       0.90      0.89      0.89       297\n",
      "\n",
      "classification report of K-nearest-neighbour classifier \n",
      " \n",
      "              precision    recall  f1-score   support\n",
      "\n",
      "          0       1.00      1.00      1.00        27\n",
      "          1       1.00      1.00      1.00        31\n",
      "          2       1.00      1.00      1.00        27\n",
      "          3       1.00      1.00      1.00        30\n",
      "          4       1.00      1.00      1.00        33\n",
      "          5       1.00      1.00      1.00        30\n",
      "          6       1.00      1.00      1.00        30\n",
      "          7       1.00      1.00      1.00        30\n",
      "          8       1.00      1.00      1.00        28\n",
      "          9       1.00      1.00      1.00        31\n",
      "\n",
      "avg / total       1.00      1.00      1.00       297\n",
      "\n"
     ]
    }
   ],
   "source": [
    "#Give the classification report for the Logistic regression classifier\n",
    "y_true_LR = y_test_mnist\n",
    "y_pred_LR = LR_opt.predict(X_test_mnist)\n",
    "target_names = ['0', '1', '2', '3', '4', '5', '6', '7', '8', '9'] #since we have numbers ranging from 0 to 9 in the mnist data set. \n",
    "print(\"classification report of Logistic regression classifier \\n\", \"\\n\", classification_report(y_true_LR, y_pred_LR, target_names=target_names))\n",
    "\n",
    "#Give the classification report for the K-nn classifier\n",
    "y_true_knn = y_test_mnist\n",
    "knn_opt = KNeighborsClassifier(n_neighbors=1)\n",
    "knn_opt.fit(X_test_mnist, y_test_mnist)\n",
    "y_pred_knn = knn_opt.predict(X_test_mnist)\n",
    "print(\"classification report of K-nearest-neighbour classifier \\n\", \"\\n\", classification_report(y_true_knn, y_pred_knn, target_names=target_names))\n"
   ]
  },
  {
   "cell_type": "markdown",
   "metadata": {},
   "source": [
    "explenation of the classifcation report\n",
    "\n",
    "The precision is the ratio tp / (tp + fp) where tp is the number of true positives and fp the number of false positives. The precision is intuitively the ability of the classifier not to label as positive a sample that is negative.\n",
    "\n",
    "The recall is the ratio tp / (tp + fn) where tp is the number of true positives and fn the number of false negatives. The recall is intuitively the ability of the classifier to find all the positive samples\n",
    "\n",
    "The f1-score can be interpreted as a weighted harmonic mean of the precision and recall, where an f1-score reaches its best value at 1 and worst score at 0.\n",
    "The f1-score weights recall more than precision by a factor of beta. beta == 1.0 means recall and precision are equally important\n",
    "\n",
    "The support is the number of occurrences of each class in y_true."
   ]
  },
  {
   "cell_type": "code",
   "execution_count": 10,
   "metadata": {
    "collapsed": false
   },
   "outputs": [
    {
     "name": "stdout",
     "output_type": "stream",
     "text": [
      "Confusing matrix of Logistic Regression classifier \n",
      "\n",
      "[[26  0  0  0  1  0  0  0  0  0]\n",
      " [ 0 26  0  2  0  0  0  0  3  0]\n",
      " [ 0  0 27  0  0  0  0  0  0  0]\n",
      " [ 0  1  0 19  0  3  0  2  5  0]\n",
      " [ 0  0  0  0 30  0  0  0  0  3]\n",
      " [ 0  1  0  0  0 29  0  0  0  0]\n",
      " [ 0  0  0  0  0  0 30  0  0  0]\n",
      " [ 0  1  0  0  0  0  0 27  2  0]\n",
      " [ 0  2  0  0  0  0  0  0 26  0]\n",
      " [ 0  2  0  1  0  0  0  1  2 25]]\n",
      "\n",
      "\n",
      " Confusion matrix of K-nearest-neighbour classifier \n",
      "\n",
      "[[27  0  0  0  0  0  0  0  0  0]\n",
      " [ 0 31  0  0  0  0  0  0  0  0]\n",
      " [ 0  0 27  0  0  0  0  0  0  0]\n",
      " [ 0  0  0 30  0  0  0  0  0  0]\n",
      " [ 0  0  0  0 33  0  0  0  0  0]\n",
      " [ 0  0  0  0  0 30  0  0  0  0]\n",
      " [ 0  0  0  0  0  0 30  0  0  0]\n",
      " [ 0  0  0  0  0  0  0 30  0  0]\n",
      " [ 0  0  0  0  0  0  0  0 28  0]\n",
      " [ 0  0  0  0  0  0  0  0  0 31]]\n"
     ]
    }
   ],
   "source": [
    "#Give the confusion matrix for the logistic regression classifier\n",
    "print(\"Confusing matrix of Logistic Regression classifier \\n\")\n",
    "print(confusion_matrix(y_true_LR, y_pred_LR))\n",
    "\n",
    "#Give the confusion matrix for the logistic regression classifier\n",
    "print(\"\\n\\n Confusion matrix of K-nearest-neighbour classifier \\n\")\n",
    "print(confusion_matrix(y_true_knn, y_pred_knn))"
   ]
  },
  {
   "cell_type": "markdown",
   "metadata": {},
   "source": [
    "In the confusion matrix, the rows represent the actual numbers going from 0 to 9 and the columns represent the numbers classified by the classifier going from 0 to 9. "
   ]
  },
  {
   "cell_type": "markdown",
   "metadata": {},
   "source": [
    "## Results and analysis of the experiment"
   ]
  },
  {
   "cell_type": "markdown",
   "metadata": {
    "collapsed": true
   },
   "source": [
    "We see that over all in this experiment, K-nn works slightly better than Logistic Regression. When we look at the accuracies with optimized parameters, we see that the accuracy of K-nn is 0.978226258333 with optimized parameters whearas that of Logistic Regression is 0.952847426302 with optimized parameters. \n",
    "\n",
    "When we plot the accuracies of K-nn classifier for different values of k, we see that the accuracy is the highest for 1 neighbour. We also see that the accuracy for 3 neighbours is slightly higher than the accuracy for 2 neighbours, but a lot lower than the accuracy for 1 neighbour. For 4 and 5 neighbours the accuracy is even lower. What stands the accuracies for the odd number of neighbous is almost always higher than the accuracy for the even number before that number. We see that the accuracy for n=3 is higher than n=2 and the accuracy for n=5 for n = 4. This is only not the case for n = 7. This at first seems contradicting, but we know that we can always determine to which class a point belongs if we take an odd number for k, whereas if we take an even number for k, we have to perform additional operations to make sure that we can always identify this point. It could be the case that these additional operations affect the accuracy in a negative way, and therefore an odd number for k has a higher accuracy. \n",
    "\n",
    "When we plot the accuracies for different values of C for logistic regression, we see that for almost all instances, the accuracy becomes lower for higher values of C. This is only not the case for C = 0.07, for that point the accuracy is suddenly a lot lower. \n",
    "\n",
    "If we look at the classification report of K-nn, we notice the following things. \n",
    "We see that the precision, recall and f1-score are 1 for every instance of K-nn. \n",
    "\n",
    "The fact that the precision is 1 means that tp / (tp + fp) is equal to 1. This means that tp needs to be equal to (tp + fp) which means that fp = 0. So we see that in the K-nn classifier, there are no false positives. \n",
    "\n",
    "The fact that the recall is 1 means that the ratio tp / (tp + fn) is 1. This also means that tp needs to be equal to (tp + fn), which means that fn = 0. Therefore, we see that in the K-nn classifier, we do not have false negatives.\n",
    "\n",
    "By combining this information we see that we have no false positives and no false negatives, which means that we do not have any wrongly classified instances. \n",
    "\n",
    "Since the f1-score is the weighted harmonic mean of the precision and recall and the precision and recall both are 1, it makes sense that the f1-score is 1 as well. \n",
    "\n",
    "In the classification report of Logistic Regression, we see that the average precision, recall and f1-score are respectively 0.90, 0.89, 0.89. As we have shown above, the fact that the precision is 0.90, means that 10% of what the logisic classifier classifies as positive, are actually false positives.\n",
    "\n",
    "The fact that the recall ratio is 89 means that only 89% of all our actual positive instances is classified as an positive instance by our classifier, thus 11% of our true positives are classified as negatives by the Logistic Regression classifier. \n",
    "\n",
    "Since the f1-score is the weighted harmonic mean of the precision and recall and the precision and recall are 0.90 and 0.89 respectivily, it makes sense that the f1-score is 0.89.\n",
    "\n",
    "If we look at the precision and recall scores for our digits for the logistic regression classifier individually, we notice that the recall ratio of the 3 is relatively low, namely 0.63. This thus means that we have a lot of actual 3's which are not classified as 3's by the classifier. Moreover, we see that the precision ratio of 8 is relatively low, namely 0.68. This means that we classify a lot of numbers as 8's which are actually not 8's. As 3 and 8 look similar, it could be the case that many 3's are being classified as 8's by our logistic regression classifier. \n",
    "\n",
    "\n",
    "Finally, we consider the confusion matrix of the both classifiers. First we notice that all the correctly classified instances appear on the diagonal of the matrix and all the instances that are wrongly classified not on the diagonal. \n",
    "\n",
    "If we look at the confusion matrix of the K-nn classifier, we notice that the only non-zero digits are on the diagonal. This again tells us that there are no false positives nor false negatives. \n",
    "\n",
    "If we look at the confusion matrix of the Logistic Regression classifier, we notice that here there are also non-zero digits not on the diagonal. This means that we indeed have wrongly classified instances.\n",
    "\n",
    "From our classification report, we suspected that there are relatively many 3's that are classified as 8's. If we look at position (9,4), we can see exactly how many 3's are being classified as 0's. We see that this number is 5, which is the biggest number not being on the diagonal, and we also notice that this is relatively big since we only have 30 actual instances of 3's. \n",
    "\n",
    "Moreover, we can read of the confusion matrix that \n",
    "- one 0 is being classified as a 4\n",
    "- three 1's are being classified as an 8\n",
    "- one 3 is being classified as a 1\n",
    "- two 3's are being classified as a 7\n",
    "- three 6's are being classified as a 9\n",
    "- one 5 is being classified as a 1\n",
    "- one 7 is being classified as a 1\n",
    "- two 7's are being classified as an 8\n",
    "- two 8's are being classified as a 1\n",
    "- two 9's are being classified as a 1\n",
    "- one 9 is being classified as a 3\n",
    "- one 9 is being classified as a 7\n",
    "- two 9's are being classified as an 8\n",
    "\n",
    "so if we sum up all these wrongly classified instances we get: 22"
   ]
  },
  {
   "cell_type": "markdown",
   "metadata": {},
   "source": [
    "BONUS: only continue with this part if you are confident that your implemention is complete\n",
    "- tune more parameters of logistic regression\n",
    "- add additional classifiers (NN, Naive Bayes, decision tree),\n",
    "- analyse additional dataset (ex. Iris dataset)"
   ]
  },
  {
   "cell_type": "markdown",
   "metadata": {},
   "source": [
    "# Bonus, Tune more parameters"
   ]
  },
  {
   "cell_type": "code",
   "execution_count": 11,
   "metadata": {
    "collapsed": false
   },
   "outputs": [
    {
     "name": "stdout",
     "output_type": "stream",
     "text": [
      "{'intercept_scaling': 7.0099999999999998}\n",
      "{'max_iter': 7}\n"
     ]
    }
   ],
   "source": [
    "#here we search for the optimal values of two additional parameters, namely intercept_scaling and max_iter\n",
    "parametersLR_IS = {'intercept_scaling': np.arange(0.01, 10)}\n",
    "clf = GridSearchCV(LR, parametersLR_IS) \n",
    "clf.fit(X_train_mnist, y_train_mnist)\n",
    "print(clf.best_params_)\n",
    "\n",
    "parametersLR_MI = {'max_iter': np.arange(1, 100)}\n",
    "clf = GridSearchCV(LR, parametersLR_MI) \n",
    "clf.fit(X_train_mnist, y_train_mnist)\n",
    "print(clf.best_params_)"
   ]
  },
  {
   "cell_type": "code",
   "execution_count": 12,
   "metadata": {
    "collapsed": false
   },
   "outputs": [
    {
     "name": "stdout",
     "output_type": "stream",
     "text": [
      "The average accuracy under Logistic Regression with additional optimized parameters is:                    0.948869622252\n",
      "The standard deviation under Logistic Regression with additional optimized parameters is:                  0.0199466831998 \n",
      "\n",
      "The average accuracy under Logistic Regression with additional optimized parameters on the test set is:    0.924129001226\n",
      "The standard deviation under Logistic Regression with additional optimized parameters on the test set is:  0.0454692980345 \n",
      "\n"
     ]
    }
   ],
   "source": [
    "#Train the new optimum for logistic regression with the additional optimal parameters\n",
    "LR_opt = LogisticRegression(C=0.1, intercept_scaling= 7.009999, max_iter=7)\n",
    "LR_opt.fit(X_train_mnist, y_train_mnist)\n",
    "\n",
    "\n",
    "print(\"The average accuracy under Logistic Regression with additional optimized parameters is:                   \", \n",
    "      av_accuracy(LR_opt, X_train_mnist, y_train_mnist))\n",
    "print(\"The standard deviation under Logistic Regression with additional optimized parameters is:                 \", \n",
    "      standarddev(LR_opt, X_train_mnist, y_train_mnist),\n",
    "     \"\\n\")\n",
    "\n",
    "print(\"The average accuracy under Logistic Regression with additional optimized parameters on the test set is:   \", \n",
    "      av_accuracy(LR_opt, X_test_mnist, y_test_mnist))\n",
    "print(\"The standard deviation under Logistic Regression with additional optimized parameters on the test set is: \", \n",
    "      standarddev(LR_opt, X_test_mnist, y_test_mnist),\n",
    "     \"\\n\")"
   ]
  },
  {
   "cell_type": "code",
   "execution_count": 13,
   "metadata": {
    "collapsed": false
   },
   "outputs": [
    {
     "data": {
      "image/png": "[encoded data removed]",
      "text/plain": [
       "<matplotlib.figure.Figure at 0x10d367128>"
      ]
     },
     "metadata": {},
     "output_type": "display_data"
    },
    {
     "data": {
      "image/png": "[encoded data removed]",
      "text/plain": [
       "<matplotlib.figure.Figure at 0x10e34a9e8>"
      ]
     },
     "metadata": {},
     "output_type": "display_data"
    }
   ],
   "source": [
    "#plot a graph for multiple values of intercept_scaling\n",
    "def gpLRIC(X):\n",
    "    LRIC = LogisticRegression(intercept_scaling= X)\n",
    "    LRIC.fit(X_train_mnist, y_train_mnist)\n",
    "    return LRIC\n",
    "\n",
    "plt.plot([1, 3, 5, 7, 9, 11], [av_accuracy(gpLRIC(1),X_train_mnist, y_train_mnist), av_accuracy(gpLRIC(3), X_train_mnist, y_train_mnist), av_accuracy(gpLRIC(5), X_train_mnist, y_train_mnist), av_accuracy(gpLRIC(7), X_train_mnist, y_train_mnist), av_accuracy(gpLRIC(9), X_train_mnist, y_train_mnist), av_accuracy(gpLRIC(11), X_train_mnist, y_train_mnist)], \"ro\")\n",
    "plt.ylabel('accuracy')\n",
    "plt.xlabel('value of intercept_scaling')\n",
    "plt.title('plot different values for intercept_scaling')\n",
    "plt.show()\n",
    "\n",
    "#plot a graph for multiple values of max_iter\n",
    "def gpLRMI(X):\n",
    "    LRMI = LogisticRegression(max_iter=X)\n",
    "    LRMI.fit(X_train_mnist, y_train_mnist)\n",
    "    return LRMI\n",
    "\n",
    "plt.plot([1, 3, 5, 7, 9, 11], [av_accuracy(gpLRMI(1),X_train_mnist, y_train_mnist), av_accuracy(gpLRMI(3), X_train_mnist, y_train_mnist), av_accuracy(gpLRMI(5), X_train_mnist, y_train_mnist), av_accuracy(gpLRMI(7), X_train_mnist, y_train_mnist), av_accuracy(gpLRMI(9), X_train_mnist, y_train_mnist), av_accuracy(gpLRMI(11), X_train_mnist, y_train_mnist)], \"ro\")\n",
    "plt.ylabel('accuracy')\n",
    "plt.xlabel('value of max_iter')\n",
    "plt.title('plot different values for max_iter')\n",
    "plt.show()"
   ]
  },
  {
   "cell_type": "markdown",
   "metadata": {},
   "source": [
    "# Bonus, analysis extra parameters"
   ]
  },
  {
   "cell_type": "markdown",
   "metadata": {},
   "source": [
    "We thus see that the accuracy gets higher as the value of intercept_scaling gets higher. Moreover, we see that for low values of max_iter is the accuracy is low. Then it reaches a peak at 7 iterations and then it goes down very slowly"
   ]
  },
  {
   "cell_type": "markdown",
   "metadata": {},
   "source": [
    "# Bonus, Additional Classifier Decision Tree"
   ]
  },
  {
   "cell_type": "code",
   "execution_count": 14,
   "metadata": {
    "collapsed": false
   },
   "outputs": [
    {
     "name": "stdout",
     "output_type": "stream",
     "text": [
      "{'max_depth': 9}\n",
      "{'min_samples_split': 4}\n"
     ]
    }
   ],
   "source": [
    "from sklearn import tree\n",
    "clfDT = tree.DecisionTreeClassifier()\n",
    "clfDT.fit(X_train_mnist, y_train_mnist)\n",
    "\n",
    "#search for the best value of max_depth\n",
    "parametersDT_MD = {'max_depth': np.arange(1, 10)}\n",
    "clf = GridSearchCV(clfDT, parametersDT_MD) \n",
    "clf.fit(X_train_mnist, y_train_mnist)\n",
    "print(clf.best_params_)\n",
    "\n",
    "#search for the best value of min_samples_split\n",
    "parametersDT_MSS = {'min_samples_split': np.arange(2, 10)}\n",
    "clf = GridSearchCV(clfDT, parametersDT_MSS) \n",
    "clf.fit(X_train_mnist, y_train_mnist)\n",
    "print(clf.best_params_)\n",
    "\n"
   ]
  },
  {
   "cell_type": "code",
   "execution_count": 15,
   "metadata": {
    "collapsed": false
   },
   "outputs": [
    {
     "name": "stdout",
     "output_type": "stream",
     "text": [
      "The average accuracy under Logistic Regression with additional optimized parameters is:                    0.815798882446\n",
      "The standard deviation under Logistic Regression with additional optimized parameters is:                  0.0617120303748 \n",
      "\n",
      "The average accuracy under Logistic Regression with additional optimized parameters on the test set is:    0.769115812503\n",
      "The standard deviation under Logistic Regression with additional optimized parameters on the test set is:  0.0620130996769 \n",
      "\n"
     ]
    }
   ],
   "source": [
    "#Train the decision tree classifier on the found optimal values for the parameters on the trian set\n",
    "clfDT_opt = tree.DecisionTreeClassifier(max_depth=9, min_samples_split=2)\n",
    "clfDT_opt.fit(X_train_mnist, y_train_mnist)\n",
    "\n",
    "#print the accuracies and standard deviation using 10-fold-crossvalidation on the training and test set\n",
    "print(\"The average accuracy under Logistic Regression with additional optimized parameters is:                   \", \n",
    "      av_accuracy(clfDT_opt, X_train_mnist, y_train_mnist))\n",
    "print(\"The standard deviation under Logistic Regression with additional optimized parameters is:                 \", \n",
    "      standarddev(clfDT_opt, X_train_mnist, y_train_mnist),\n",
    "     \"\\n\")\n",
    "\n",
    "print(\"The average accuracy under Logistic Regression with additional optimized parameters on the test set is:   \", \n",
    "      av_accuracy(clfDT_opt, X_test_mnist, y_test_mnist))\n",
    "print(\"The standard deviation under Logistic Regression with additional optimized parameters on the test set is: \", \n",
    "      standarddev(clfDT_opt, X_test_mnist, y_test_mnist),\n",
    "     \"\\n\")"
   ]
  },
  {
   "cell_type": "code",
   "execution_count": 16,
   "metadata": {
    "collapsed": false
   },
   "outputs": [
    {
     "data": {
      "image/png": "[encoded data removed]",
      "text/plain": [
       "<matplotlib.figure.Figure at 0x113924390>"
      ]
     },
     "metadata": {},
     "output_type": "display_data"
    }
   ],
   "source": [
    "#plot a graph for multiple values for the parameter max_depth\n",
    "def gpDT(X):\n",
    "    DT = tree.DecisionTreeClassifier(max_depth=X)\n",
    "    DT.fit(X_train_mnist, y_train_mnist)\n",
    "    return DT\n",
    "\n",
    "plt.plot([1, 3, 5, 7, 9, 11], [av_accuracy(gpDT(1),X_train_mnist, y_train_mnist), av_accuracy(gpDT(3), X_train_mnist, y_train_mnist), av_accuracy(gpDT(5), X_train_mnist, y_train_mnist), av_accuracy(gpDT(7), X_train_mnist, y_train_mnist), av_accuracy(gpDT(9), X_train_mnist, y_train_mnist), av_accuracy(gpDT(11), X_train_mnist, y_train_mnist)], \"ro\")\n",
    "plt.ylabel('accuracy')\n",
    "plt.xlabel('value of max_depth')\n",
    "plt.title('plot different values for max_depth')\n",
    "plt.show()"
   ]
  },
  {
   "cell_type": "code",
   "execution_count": 17,
   "metadata": {
    "collapsed": false
   },
   "outputs": [
    {
     "name": "stdout",
     "output_type": "stream",
     "text": [
      "             precision    recall  f1-score   support\n",
      "\n",
      "          0       0.96      0.93      0.94        27\n",
      "          1       0.67      0.65      0.66        31\n",
      "          2       0.81      0.78      0.79        27\n",
      "          3       0.59      0.43      0.50        30\n",
      "          4       0.81      0.88      0.84        33\n",
      "          5       0.93      0.87      0.90        30\n",
      "          6       0.89      0.83      0.86        30\n",
      "          7       0.69      0.83      0.76        30\n",
      "          8       0.59      0.61      0.60        28\n",
      "          9       0.69      0.81      0.75        31\n",
      "\n",
      "avg / total       0.76      0.76      0.76       297\n",
      "\n"
     ]
    }
   ],
   "source": [
    "#Give a classification report \n",
    "y_true_DT = y_test_mnist\n",
    "y_pred_DT = clfDT_opt.predict(X_test_mnist)\n",
    "print(classification_report(y_true_DT, y_pred_DT, target_names=target_names))"
   ]
  },
  {
   "cell_type": "code",
   "execution_count": 18,
   "metadata": {
    "collapsed": false
   },
   "outputs": [
    {
     "name": "stdout",
     "output_type": "stream",
     "text": [
      "[[25  0  0  0  1  0  0  1  0  0]\n",
      " [ 0 20  3  1  1  0  0  0  5  1]\n",
      " [ 0  1 21  2  1  0  0  2  0  0]\n",
      " [ 0  2  1 13  0  2  1  2  4  5]\n",
      " [ 0  0  0  0 29  0  1  2  0  1]\n",
      " [ 0  0  0  1  1 26  1  0  0  1]\n",
      " [ 0  1  0  0  2  0 25  0  2  0]\n",
      " [ 0  0  0  4  1  0  0 25  0  0]\n",
      " [ 1  4  1  0  0  0  0  2 17  3]\n",
      " [ 0  2  0  1  0  0  0  2  1 25]]\n"
     ]
    }
   ],
   "source": [
    "#give the confusion matrix\n",
    "print(confusion_matrix(y_true_DT, y_pred_DT))"
   ]
  },
  {
   "cell_type": "markdown",
   "metadata": {},
   "source": [
    "# Analysis Decision Tree Classifier"
   ]
  },
  {
   "cell_type": "markdown",
   "metadata": {},
   "source": [
    "We have tuned the parameter max_depth. We see that the accuracy gets higher as the max_depth gets higher. \n",
    "\n",
    "We see that the accuracies of the Decision tree classifier are lower than the accuracies of K-nn classifier or Logistic regression, namely .83 on the training set and 0.76 on the test set\n",
    "\n",
    "We see in the classification report that the recall and prediction value are never 1, meaning that for every class we misclassify instances. \n",
    "\n",
    "In the confusion matrix we see that expecially a lot (7) of 3's are being classified as 8's. Moreover, five 1's are being classified as 8's and four 8's are being classified as 1's. \n",
    "\n",
    "We thus see again that a lot of 3's are being classified as 8's, which we also had for the Logistic Regression classifier, but the decision tree classifier also mixes up the 1's and the 8's. "
   ]
  },
  {
   "cell_type": "markdown",
   "metadata": {},
   "source": [
    "# Bonus, Neural Networks classifier"
   ]
  },
  {
   "cell_type": "code",
   "execution_count": 46,
   "metadata": {
    "collapsed": true
   },
   "outputs": [],
   "source": [
    "from sklearn.neural_network import MLPClassifier\n",
    "NN = MLPClassifier()\n",
    "NN = NN.fit(X_train_mnist, y_train_mnist) #train the MPLclassifier on the test set"
   ]
  },
  {
   "cell_type": "code",
   "execution_count": 50,
   "metadata": {
    "collapsed": false
   },
   "outputs": [
    {
     "name": "stdout",
     "output_type": "stream",
     "text": [
      "{'activation': 'logistic'}\n"
     ]
    }
   ],
   "source": [
    "#we find the optimal values for the parameters of the Neural Network classifier\n",
    "parametersNNA = {'activation' : ('identity', 'logistic', 'tanh', 'relu')}\n",
    "clfNNA = GridSearchCV(NN, parametersNNA)\n",
    "clfNNA.fit(X_train_mnist, y_train_mnist)\n",
    "print(clfNNA.best_params_)\n"
   ]
  },
  {
   "cell_type": "code",
   "execution_count": 40,
   "metadata": {
    "collapsed": false
   },
   "outputs": [
    {
     "name": "stdout",
     "output_type": "stream",
     "text": [
      "The average accuracy under Neural Networks with default parameters is:                         0.957485467836\n",
      "The standard deviation under Neural Networks with default parameters is:                       0.019397139978 \n",
      "\n",
      "The average accuracy under Neural Networks with optimized parameters is:                       0.950492637589\n",
      "The standard deviation under Neural Networks with optimized parameters is:                     0.0366354070234 \n",
      "\n",
      "The average accuracy under Neural Networks with default parameters is on the test set:         0.914946003817\n",
      "The standard deviation under Neural Networks with default parameters is on the test set:       0.0448700804066 \n",
      "\n",
      "The average accuracy under Neural Networks with optimized parameters is on the test set:       0.940014740337\n",
      "The standard deviation under Neural Networks with optimized parameters is on the test set:     0.0345990243568 \n",
      "\n"
     ]
    }
   ],
   "source": [
    "print(\"The average accuracy under Neural Networks with default parameters is:                        \", \n",
    "      av_accuracy(NN, X_train_mnist, y_train_mnist))\n",
    "print(\"The standard deviation under Neural Networks with default parameters is:                      \", \n",
    "      standarddev(NN, X_train_mnist, y_train_mnist),\n",
    "     \"\\n\")\n",
    "\n",
    "#Train Neural Networks using optimized parameters on the test set.\n",
    "NN_opt = MLPClassifier(activation = 'logistic', max_iter=1000) #otherwise we will get an error\n",
    "NN_opt.fit(X_train_mnist, y_train_mnist)\n",
    "\n",
    " \n",
    "print(\"The average accuracy under Neural Networks with optimized parameters is:                      \", \n",
    "      av_accuracy(NN_opt, X_test_mnist, y_test_mnist))\n",
    "print(\"The standard deviation under Neural Networks with optimized parameters is:                    \", \n",
    "      standarddev(NN_opt, X_test_mnist, y_test_mnist),\n",
    "     \"\\n\")\n",
    "\n",
    "\n",
    "#now print the scores on your test set\n",
    "print(\"The average accuracy under Neural Networks with default parameters is on the test set:        \", \n",
    "      av_accuracy(NN, X_test_mnist, y_test_mnist))\n",
    "print(\"The standard deviation under Neural Networks with default parameters is on the test set:      \", \n",
    "      standarddev(NN, X_test_mnist, y_test_mnist),\n",
    "     \"\\n\")\n",
    "print(\"The average accuracy under Neural Networks with optimized parameters is on the test set:      \", \n",
    "      av_accuracy(NN_opt, X_test_mnist, y_test_mnist))\n",
    "print(\"The standard deviation under Neural Networks with optimized parameters is on the test set:    \", \n",
    "      standarddev(NN_opt, X_test_mnist, y_test_mnist),\n",
    "     \"\\n\")\n"
   ]
  },
  {
   "cell_type": "code",
   "execution_count": 51,
   "metadata": {
    "collapsed": false
   },
   "outputs": [
    {
     "data": {
      "image/png": "[encoded data removed]",
      "text/plain": [
       "<matplotlib.figure.Figure at 0x11356c7f0>"
      ]
     },
     "metadata": {},
     "output_type": "display_data"
    }
   ],
   "source": [
    "#plot graph for different \"values\" of the activation function\n",
    "def gpNN(X):\n",
    "    NN = MLPClassifier(activation=X)\n",
    "    NN.fit(X_train_mnist, y_train_mnist)\n",
    "    return NN\n",
    "\n",
    "plt.plot([1, 2, 3, 4], [av_accuracy(gpNN('logistic'),X_train_mnist, y_train_mnist), av_accuracy(gpNN('relu'), X_train_mnist, y_train_mnist), av_accuracy(gpNN('identity'), X_train_mnist, y_train_mnist), av_accuracy(gpNN('tanh'), X_train_mnist, y_train_mnist)], \"ro\")\n",
    "plt.ylabel('accuracy')\n",
    "plt.xlabel('value of for the activation function') #here 1 represents \"logistic\", 2 \"relu\", 3 \"identity\" and 4 \"tahn\n",
    "plt.title('plot different values for different activation functions ')\n",
    "plt.show()   \n",
    "\n"
   ]
  },
  {
   "cell_type": "code",
   "execution_count": 23,
   "metadata": {
    "collapsed": false
   },
   "outputs": [
    {
     "name": "stdout",
     "output_type": "stream",
     "text": [
      "             precision    recall  f1-score   support\n",
      "\n",
      "          0       1.00      0.89      0.94        27\n",
      "          1       0.94      1.00      0.97        31\n",
      "          2       0.96      1.00      0.98        27\n",
      "          3       1.00      0.70      0.82        30\n",
      "          4       0.97      0.91      0.94        33\n",
      "          5       0.88      1.00      0.94        30\n",
      "          6       0.94      0.97      0.95        30\n",
      "          7       0.91      1.00      0.95        30\n",
      "          8       0.81      0.93      0.87        28\n",
      "          9       0.90      0.87      0.89        31\n",
      "\n",
      "avg / total       0.93      0.93      0.92       297\n",
      "\n"
     ]
    }
   ],
   "source": [
    "#Give a classification report \n",
    "y_true_NN = y_test_mnist\n",
    "y_pred_NN = NN.predict(X_test_mnist)\n",
    "print(classification_report(y_true_NN, y_pred_NN, target_names=target_names))"
   ]
  },
  {
   "cell_type": "code",
   "execution_count": 24,
   "metadata": {
    "collapsed": false
   },
   "outputs": [
    {
     "name": "stdout",
     "output_type": "stream",
     "text": [
      "[[24  0  0  0  1  0  2  0  0  0]\n",
      " [ 0 31  0  0  0  0  0  0  0  0]\n",
      " [ 0  0 27  0  0  0  0  0  0  0]\n",
      " [ 0  0  1 21  0  3  0  2  3  0]\n",
      " [ 0  0  0  0 30  0  0  0  1  2]\n",
      " [ 0  0  0  0  0 30  0  0  0  0]\n",
      " [ 0  0  0  0  0  0 29  0  0  1]\n",
      " [ 0  0  0  0  0  0  0 30  0  0]\n",
      " [ 0  2  0  0  0  0  0  0 26  0]\n",
      " [ 0  0  0  0  0  1  0  1  2 27]]\n"
     ]
    }
   ],
   "source": [
    "#give the confusion matrix\n",
    "print(confusion_matrix(y_true_NN, y_pred_NN))"
   ]
  },
  {
   "cell_type": "markdown",
   "metadata": {},
   "source": [
    "# Analysis Neural Networks classifier"
   ]
  },
  {
   "cell_type": "markdown",
   "metadata": {},
   "source": [
    "We see that the accuracies of the Neural Network Classifier are high, and aproximately equally as high as those of the K-nn classifier and Logistic Regression classifier. \n",
    "\n",
    "In our plot we see that the \"logistic\" activation function results in a high accuracy and the \"identity\" activation function in a lower accuracy. However, that accuracy is still 0.94 which is high as well. \n",
    "\n",
    "When we look at the classification report, we see that all the precision and recall scores are reasonably high, except for the recall score of class 3 and the precision score of 8, they are much lower.\n",
    "\n",
    "In the confusion matrix we see again that four 3's are being misclassified as 8's, just like in the logisitc regression classifier and the decision tree classifier. "
   ]
  },
  {
   "cell_type": "markdown",
   "metadata": {},
   "source": [
    "# Bonus, Naive Bayes classifier"
   ]
  },
  {
   "cell_type": "code",
   "execution_count": 25,
   "metadata": {
    "collapsed": false
   },
   "outputs": [
    {
     "name": "stdout",
     "output_type": "stream",
     "text": [
      "The average accuracy under Naive Bayes with default parameters is:                                    0.843732737128\n",
      "The standard deviation under Naive Bayes with default parameters is:                                  0.0536649233545 \n",
      "\n",
      "The average accuracy under Naive Bayes with default parameters on test set is:                        0.832724402241\n",
      "The standard deviation under Naive Bayes with default parameters on test set is:                      0.0481905318579 \n",
      "\n"
     ]
    }
   ],
   "source": [
    "from sklearn.naive_bayes import GaussianNB\n",
    "gnb = GaussianNB()\n",
    "gnb.fit(X_train_mnist, y_train_mnist) #train the GaussianNB classifier using default settings on the training set\n",
    "\n",
    "#print the accuracies and standard deviation using default settings on the train and test set\n",
    "print(\"The average accuracy under Naive Bayes with default parameters is:                                   \", \n",
    "      av_accuracy(gnb, X_train_mnist, y_train_mnist))\n",
    "print(\"The standard deviation under Naive Bayes with default parameters is:                                 \", \n",
    "      standarddev(gnb, X_train_mnist, y_train_mnist),\n",
    "     \"\\n\")\n",
    "\n",
    "print(\"The average accuracy under Naive Bayes with default parameters on test set is:                       \", \n",
    "      av_accuracy(gnb, X_test_mnist, y_test_mnist))\n",
    "print(\"The standard deviation under Naive Bayes with default parameters on test set is:                     \", \n",
    "      standarddev(gnb, X_test_mnist, y_test_mnist),\n",
    "     \"\\n\")\n"
   ]
  },
  {
   "cell_type": "markdown",
   "metadata": {},
   "source": [
    "The Gaussian Naive Bayes classifier does not have any other parameters than the prior parameter, which we cannot tune. Therefore we cannot perform this stap op the Gaussian Naive Bayes classifier. "
   ]
  },
  {
   "cell_type": "code",
   "execution_count": 26,
   "metadata": {
    "collapsed": false
   },
   "outputs": [
    {
     "name": "stdout",
     "output_type": "stream",
     "text": [
      "             precision    recall  f1-score   support\n",
      "\n",
      "          0       0.96      0.96      0.96        27\n",
      "          1       0.69      0.87      0.77        31\n",
      "          2       0.95      0.70      0.81        27\n",
      "          3       1.00      0.47      0.64        30\n",
      "          4       0.96      0.82      0.89        33\n",
      "          5       0.78      0.93      0.85        30\n",
      "          6       0.97      0.97      0.97        30\n",
      "          7       0.59      0.87      0.70        30\n",
      "          8       0.56      0.71      0.63        28\n",
      "          9       0.91      0.68      0.78        31\n",
      "\n",
      "avg / total       0.84      0.80      0.80       297\n",
      "\n"
     ]
    }
   ],
   "source": [
    "#Give the classification report \n",
    "y_true_gnb = y_test_mnist\n",
    "y_pred_gnb = gnb.predict(X_test_mnist)\n",
    "print(classification_report(y_true_gnb, y_pred_gnb, target_names=target_names))"
   ]
  },
  {
   "cell_type": "code",
   "execution_count": 27,
   "metadata": {
    "collapsed": false
   },
   "outputs": [
    {
     "name": "stdout",
     "output_type": "stream",
     "text": [
      "[[26  0  0  0  1  0  0  0  0  0]\n",
      " [ 0 27  0  0  0  0  0  0  4  0]\n",
      " [ 0  4 19  0  0  0  1  0  1  2]\n",
      " [ 0  1  0 14  0  4  0  3  8  0]\n",
      " [ 0  0  0  0 27  0  0  5  1  0]\n",
      " [ 0  1  0  0  0 28  0  1  0  0]\n",
      " [ 0  1  0  0  0  0 29  0  0  0]\n",
      " [ 0  0  1  0  0  1  0 26  2  0]\n",
      " [ 0  4  0  0  0  1  0  3 20  0]\n",
      " [ 1  1  0  0  0  2  0  6  0 21]]\n"
     ]
    }
   ],
   "source": [
    "#Give the confusion matrix\n",
    "print(confusion_matrix(y_true_gnb, y_pred_gnb))"
   ]
  },
  {
   "cell_type": "markdown",
   "metadata": {},
   "source": [
    "# Analysis Naive Bayes classifier"
   ]
  },
  {
   "cell_type": "markdown",
   "metadata": {},
   "source": [
    "we see that the accuracies of the Naive Bayes classifier are lower than K-nn, Logistic Regression and Neural networks, but higher than the of the decision tree classifier. \n",
    "\n",
    "we see in the classification report that the recall score for class 1 is very low and the predict score of class 7 and 8\n",
    "\n",
    "Again, this classifier misclassifies many (8) 3's as 8's as we can see in the confusion matrix. Moreover, this classifier also misclassifies six 9's as 7's"
   ]
  },
  {
   "cell_type": "code",
   "execution_count": 28,
   "metadata": {
    "collapsed": false
   },
   "outputs": [
    {
     "name": "stdout",
     "output_type": "stream",
     "text": [
      "{'n_neighbors': 3}\n",
      "{'C': 0.001}\n"
     ]
    }
   ],
   "source": [
    "#Bonus try iris dataset.\n",
    "from sklearn import datasets\n",
    "from sklearn.model_selection import train_test_split\n",
    "iris = datasets.load_iris()\n",
    "\n",
    "X = iris.data[:, :3] \n",
    "Y = iris.target\n",
    "\n",
    "X_train_iris, X_test_iris, y_train_iris, y_test_iris = train_test_split(X, Y, test_size=0.5)\n",
    "\n",
    "KnnI = KNeighborsClassifier()\n",
    "parametersK = {'n_neighbors': np.arange(1,10)}\n",
    "clfK = GridSearchCV(Knn, parametersK)\n",
    "clfK.fit(X_train_iris, y_train_iris)\n",
    "print(clfK.best_params_)\n",
    "\n",
    "LRI = LogisticRegression()\n",
    "parametersL = {'C': np.arange(0.001, 10)}\n",
    "clf = GridSearchCV(LR, parametersL) \n",
    "clf.fit(X_train_iris, y_test_iris)\n",
    "print(clf.best_params_)"
   ]
  },
  {
   "cell_type": "code",
   "execution_count": 29,
   "metadata": {
    "collapsed": false
   },
   "outputs": [
    {
     "name": "stdout",
     "output_type": "stream",
     "text": [
      "The average accuracy under Logistic Regression with default parameters on the iris dataset is:          0.859920634921\n",
      "The standard deviation under Logistic Regression with optimized parameters on the irisdata set is:      0.114847193274 \n",
      "\n",
      "The average accuracy under K-nn with default parameters on the iris dataset is:                         0.892261904762\n",
      "The standard deviation under K-nn with default parameters is:                                           0.0759277982643 \n",
      "\n",
      "The average accuracy under Logistic Regression with optimized parameters on the iris dataset is:        0.943650793651\n",
      "The standard deviation under Logistic Regression with optimized parameters on the iris dataset is:      0.0701337670162 \n",
      "\n",
      "The average accuracy under K-nn with optimized parameters on the iris dataset is:                       0.946666666667\n",
      "The standard deviation under K-nn with optimized parameters on the iris dataset is:                     0.0516397779494\n"
     ]
    }
   ],
   "source": [
    "print(\"The average accuracy under Logistic Regression with default parameters on the iris dataset is:         \", \n",
    "      av_accuracy(LRI, X_train_iris, y_train_iris))\n",
    "print(\"The standard deviation under Logistic Regression with optimized parameters on the irisdata set is:     \", \n",
    "      standarddev(LR, X_train_iris, y_train_iris),\n",
    "     \"\\n\")\n",
    "\n",
    "print(\"The average accuracy under K-nn with default parameters on the iris dataset is:                        \", \n",
    "      av_accuracy(KnnI, X_train_iris, y_train_iris))\n",
    "print(\"The standard deviation under K-nn with default parameters is:                                          \", \n",
    "      standarddev(Knn, X_train_iris, y_train_iris),\n",
    "     \"\\n\")\n",
    "\n",
    "\n",
    "\n",
    "#Train logistic regression and k-nn using optimized parameters.\n",
    "LR_optI = LogisticRegression(C=10)\n",
    "LR_optI.fit(X, Y)\n",
    "\n",
    "\n",
    "print(\"The average accuracy under Logistic Regression with optimized parameters on the iris dataset is:       \", \n",
    "      av_accuracy(LR_optI, X_train_iris, y_train_iris))\n",
    "print(\"The standard deviation under Logistic Regression with optimized parameters on the iris dataset is:     \", \n",
    "      standarddev(LR_optI, X_train_iris, y_train_iris),\n",
    "     \"\\n\")\n",
    "\n",
    "Knn_optI = KNeighborsClassifier(n_neighbors=7)\n",
    "Knn_optI.fit = (X_train_iris, y_train_iris)\n",
    "\n",
    "print(\"The average accuracy under K-nn with optimized parameters on the iris dataset is:                      \", \n",
    "      av_accuracy(Knn_optI, X, Y))\n",
    "print(\"The standard deviation under K-nn with optimized parameters on the iris dataset is:                    \", \n",
    "      standarddev(Knn_opt, X, Y))\n"
   ]
  },
  {
   "cell_type": "code",
   "execution_count": 30,
   "metadata": {
    "collapsed": false
   },
   "outputs": [
    {
     "data": {
      "image/png": "[encoded data removed]",
      "text/plain": [
       "<matplotlib.figure.Figure at 0x11395a5c0>"
      ]
     },
     "metadata": {},
     "output_type": "display_data"
    }
   ],
   "source": [
    "plt.plot([1, 2, 3, 4,5,6,7], [av_accuracy(Knn_optI, X, Y), av_accuracy(Knn2, X, Y), av_accuracy(Knn3, X, Y), av_accuracy(Knn4, X, Y), av_accuracy(Knn5, X, Y), av_accuracy(Knn6, X, Y), av_accuracy(Knn7, X, Y)], \"ro\")\n",
    "plt.ylabel('accuracy')\n",
    "plt.xlabel('value of k')\n",
    "plt.title('plot different values for k, the number of neighbors')\n",
    "plt.show()"
   ]
  },
  {
   "cell_type": "code",
   "execution_count": 31,
   "metadata": {
    "collapsed": false
   },
   "outputs": [
    {
     "data": {
      "image/png": "[encoded data removed]",
      "text/plain": [
       "<matplotlib.figure.Figure at 0x113768a20>"
      ]
     },
     "metadata": {},
     "output_type": "display_data"
    }
   ],
   "source": [
    "\n",
    "\n",
    "\n",
    "plt.plot([0.01, 0.05, 0.07, 0.1, 0.3, 0.5, 0.7, 1], [av_accuracy(LR_optI, X, Y), av_accuracy(LR2, X, Y), av_accuracy(LR3, X, Y), av_accuracy(LR5, X, Y), av_accuracy(LR6, X, Y), av_accuracy(LR7, X, Y), av_accuracy(LR8, X, Y), av_accuracy(LR9, X, Y)], 'ro')\n",
    "plt.ylabel('accuracy')\n",
    "plt.xlabel('value of C')\n",
    "plt.title('plot different values for C')\n",
    "plt.show()"
   ]
  },
  {
   "cell_type": "code",
   "execution_count": 32,
   "metadata": {
    "collapsed": false
   },
   "outputs": [],
   "source": [
    "target_namesI = ['0', '1', '2']\n",
    "y_true_knnI = y_test_iris\n",
    "knn_optI = KNeighborsClassifier(n_neighbors=2)\n",
    "knn_optI.fit(X_test_iris, y_test_iris)\n",
    "y_pred_knnI = knn_optI.predict(X_test_iris)"
   ]
  },
  {
   "cell_type": "code",
   "execution_count": 33,
   "metadata": {
    "collapsed": false
   },
   "outputs": [
    {
     "name": "stdout",
     "output_type": "stream",
     "text": [
      "             precision    recall  f1-score   support\n",
      "\n",
      "          0       1.00      1.00      1.00        28\n",
      "          1       0.96      1.00      0.98        25\n",
      "          2       1.00      0.95      0.98        22\n",
      "\n",
      "avg / total       0.99      0.99      0.99        75\n",
      "\n"
     ]
    }
   ],
   "source": [
    "print(classification_report(y_true_knnI, y_pred_knnI, target_names=target_namesI))"
   ]
  },
  {
   "cell_type": "code",
   "execution_count": 34,
   "metadata": {
    "collapsed": false
   },
   "outputs": [
    {
     "name": "stdout",
     "output_type": "stream",
     "text": [
      "[[28  0  0]\n",
      " [ 0 25  0]\n",
      " [ 0  1 21]]\n"
     ]
    }
   ],
   "source": [
    "print(confusion_matrix(y_true_knnI, y_pred_knnI))"
   ]
  },
  {
   "cell_type": "code",
   "execution_count": 53,
   "metadata": {
    "collapsed": false
   },
   "outputs": [
    {
     "name": "stdout",
     "output_type": "stream",
     "text": [
      "             precision    recall  f1-score   support\n",
      "\n",
      "          0       1.00      1.00      1.00        28\n",
      "          1       0.96      0.92      0.94        25\n",
      "          2       0.91      0.95      0.93        22\n",
      "\n",
      "avg / total       0.96      0.96      0.96        75\n",
      "\n"
     ]
    }
   ],
   "source": [
    "y_true_LRI = y_test_iris\n",
    "y_pred_LRI = LR_optI.predict(X_test_iris) \n",
    "print(classification_report(y_true_LRI, y_pred_LRI))"
   ]
  },
  {
   "cell_type": "code",
   "execution_count": 36,
   "metadata": {
    "collapsed": false
   },
   "outputs": [
    {
     "name": "stdout",
     "output_type": "stream",
     "text": [
      "[[28  0  0]\n",
      " [ 0 23  2]\n",
      " [ 0  1 21]]\n"
     ]
    }
   ],
   "source": [
    "print(confusion_matrix(y_true_LRI, y_pred_LRI))"
   ]
  },
  {
   "cell_type": "markdown",
   "metadata": {},
   "source": [
    "Analysis Iris dataset\n",
    "\n",
    "If we look at the plotted values for different values of k for K-nn classifier, we see that the accuracies of k= 1,3,5,6,7 are all similar and the accuracies for k=2,4 are similar and lower as well. \n",
    "Here we see as well that the accuracy of k=3 (which is an odd number) is higher than the accuracy for k=4(which is an even number). This supports the claim that the accuracy of the K-nn classifier is slightly higher for odd numbers than for even numbers if the numbers are close to eachother. This does not seem to matter much when we look at a high number for k. \n",
    "\n",
    "When we look at the classification report of the K-nn classifier, we see that for class 0, every instance is being classified correcly, since the prediction, recall and f1-score are all 1.\n",
    "For class 1 we see that the recall score is 1, which means that all instances that are 1's are actually classified as 1's. We see that the precision score is 0.96, which means that 4% of the instances classified as class 1 are actually not class 1. \n",
    "\n",
    "Since the f1 score is the harmonic average of the recall and precision score, it makes sense that this is 98\n",
    "\n",
    "For class  we see that the precision score is 1, which means that everything that is classified as class 3, belongs also actually to class 3. However, we see that the recall score is 0.95, which means that 5% of the instances that belong to class 2 are not classified as belonging to class 2. \n",
    "\n",
    "After this we suspect that some instances of class 2 are being classified as instances of class 1.\n",
    "\n",
    "When we look at the confusion matrix, we see indeed that 1 instance that belong to class 2 are being classied as belonging to class 1\n",
    "\n",
    "\n",
    "If we look at the plotted values for different values of c for the Logistic Regression classifier, we see that the accuracy very high for very small values of c, then it reaches a minimum, and then for higher values of C, the accuracy goes up again. We see that the minimum is when C=0.07, just as for the mnist data set.\n",
    "\n",
    "if we look at the classification report of the Logistic classifier, we see that again that for class 0, every instance is being classified correctly, since the prediction, recall and f1-score are all 1.\n",
    "For class 1 we see that the prediction and recall are 0.96 and 0.92 respectifely. We thus see that 4% of the instances that is being classified as class 1 actually does not belong to class 1, and 8% of the items that belong to class 1 are being classified as not belonging to class 1\n",
    "\n",
    "For class 2 we see that the prediction and recall are 0.91 and 0.95 respectively. Therefore 9% of the instances that are being classified as belonging to class 2 actually do not belong to class 2, and 5% of the instances that belong to class 2 are classified as not belonging to class 2. \n",
    "\n",
    "Therefore we assume that items from class 1 are being classified as class 2 and the other way around.\n",
    "\n",
    "If we look at the confusion matrix, we indeed see that 2 items that are actually class 2 are being classified as class 3, and 1 item that are class 3 are being classified as class 2. \n",
    "\n",
    "We see that for both the K-nn classifier and the Logistic classifier that the accuracies are lower \n"
   ]
  },
  {
   "cell_type": "markdown",
   "metadata": {},
   "source": [
    "# TOTAL ANALYSIS"
   ]
  },
  {
   "cell_type": "markdown",
   "metadata": {},
   "source": [
    "In the end, we see that the K-nn classifier classifies our data the best. The average accuracy on the test set using optimized parameters is 0.97, which is extriemely high "
   ]
  },
  {
   "cell_type": "code",
   "execution_count": null,
   "metadata": {
    "collapsed": true
   },
   "outputs": [],
   "source": []
  }
 ],
 "metadata": {
  "kernelspec": {
   "display_name": "Python 3",
   "language": "python",
   "name": "python3"
  },
  "language_info": {
   "codemirror_mode": {
    "name": "ipython",
    "version": 3
   },
   "file_extension": ".py",
   "mimetype": "text/x-python",
   "name": "python",
   "nbconvert_exporter": "python",
   "pygments_lexer": "ipython3",
   "version": "3.6.0"
  }
 },
 "nbformat": 4,
 "nbformat_minor": 2
}
