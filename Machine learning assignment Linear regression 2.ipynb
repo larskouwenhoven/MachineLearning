{
 "cells": [
  {
   "cell_type": "markdown",
   "metadata": {},
   "source": [
    "Unvariate Linear Regression Assignment Charlotte Out "
   ]
  },
  {
   "cell_type": "code",
   "execution_count": 64,
   "metadata": {
    "collapsed": true
   },
   "outputs": [],
   "source": [
    "#variables we need to define\n",
    "alpha = 0.1\n",
    "theta0 = 0\n",
    "theta1 = 1\n",
    "interations = 10\n",
    "b = 2 \n",
    "m = 100\n",
    "x = linspace(0,10,m)\n",
    "y = alpha * x + b + 0.3 * random.randn(m)"
   ]
  },
  {
   "cell_type": "code",
   "execution_count": 65,
   "metadata": {
    "collapsed": true
   },
   "outputs": [],
   "source": [
    "import numpy as np"
   ]
  },
  {
   "cell_type": "code",
   "execution_count": 66,
   "metadata": {
    "collapsed": false
   },
   "outputs": [
    {
     "name": "stdout",
     "output_type": "stream",
     "text": [
      "Populating the interactive namespace from numpy and matplotlib\n"
     ]
    }
   ],
   "source": [
    "%pylab inline"
   ]
  },
  {
   "cell_type": "code",
   "execution_count": 67,
   "metadata": {
    "collapsed": true
   },
   "outputs": [],
   "source": [
    " #we first create the hypothesis function which we call predict\n",
    "def predict(x,theta0,theta1):\n",
    "    x_predict == (theta0 + theta1*x)\n",
    "    return x_predict"
   ]
  },
  {
   "cell_type": "code",
   "execution_count": 68,
   "metadata": {
    "collapsed": false
   },
   "outputs": [],
   "source": [
    "#then we define the cost function\n",
    "def cost(x,y,theta0,theta1):\n",
    "     return (np.sum(((theta0 + theta1*x) - y)**2))*(1/(2*m))"
   ]
  },
  {
   "cell_type": "code",
   "execution_count": 69,
   "metadata": {
    "collapsed": false
   },
   "outputs": [
    {
     "data": {
      "image/png": "[encoded data removed]",
      "text/plain": [
       "<matplotlib.figure.Figure at 0x10f28f828>"
      ]
     },
     "metadata": {},
     "output_type": "display_data"
    }
   ],
   "source": [
    "#in this step we stive to fine the optimal values for theta0 and theta1\n",
    "def gradDescentStep(theta0,theta1,y,x):\n",
    "    i = 0\n",
    "    cost = cost(x,y,theta0,theta1)\n",
    "    x_predict = (theta0 + theta1*x)\n",
    "    while (i < interations) and (cost > stopcondition):\n",
    "        temp0 = theta0 - alpha*(1/m)*sum(x_predict - y)\n",
    "        temp1 = theta1 - alpha*(1/m)*sum(x_predict - y)\n",
    "        i = i+1\n",
    "        cost = cost(temp0, temp1, x, y)\n",
    "        \n",
    "plt.plot(x,(theta0 + theta1*x))\n",
    "plt.plot(x,y,'o')\n",
    "plt.show()\n",
    "#here we plot the hypothesis function and the data and the data together"
   ]
  },
  {
   "cell_type": "code",
   "execution_count": 50,
   "metadata": {
    "collapsed": false
   },
   "outputs": [
    {
     "data": {
      "text/plain": [
       "0.0"
      ]
     },
     "execution_count": 50,
     "metadata": {},
     "output_type": "execute_result"
    }
   ],
   "source": [
    "\n"
   ]
  },
  {
   "cell_type": "code",
   "execution_count": null,
   "metadata": {
    "collapsed": true
   },
   "outputs": [],
   "source": []
  }
 ],
 "metadata": {
  "kernelspec": {
   "display_name": "Python 3",
   "language": "python",
   "name": "python3"
  },
  "language_info": {
   "codemirror_mode": {
    "name": "ipython",
    "version": 3
   },
   "file_extension": ".py",
   "mimetype": "text/x-python",
   "name": "python",
   "nbconvert_exporter": "python",
   "pygments_lexer": "ipython3",
   "version": "3.6.0"
  }
 },
 "nbformat": 4,
 "nbformat_minor": 2
}
