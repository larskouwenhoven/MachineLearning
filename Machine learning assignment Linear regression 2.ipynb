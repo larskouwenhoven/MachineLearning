{
 "cells": [
  {
   "cell_type": "markdown",
   "metadata": {},
   "source": [
    "Unvariate Linear Regression Assignment "
   ]
  },
  {
   "cell_type": "code",
   "execution_count": 16,
   "metadata": {
    "collapsed": true
   },
   "outputs": [],
   "source": [
    "#variables we need to define\n",
    "alpha = 0.1\n",
    "theta0 = 0\n",
    "theta1 = 1\n",
    "interations = 10"
   ]
  },
  {
   "cell_type": "code",
   "execution_count": 18,
   "metadata": {
    "collapsed": true
   },
   "outputs": [],
   "source": [
    " #we first create the hypothesis function which we call predict\n",
    "def predict(x,theta0,theta1):\n",
    "    x_predict == (theta0 + theta1*x)\n",
    "    return x_predict"
   ]
  },
  {
   "cell_type": "code",
   "execution_count": 21,
   "metadata": {
    "collapsed": false
   },
   "outputs": [],
   "source": [
    "#then we define the cost function\n",
    "def cost(x_predict,y):\n",
    "     return (sum((x_predict - y)**2))*(1/(2*m))"
   ]
  },
  {
   "cell_type": "code",
   "execution_count": 23,
   "metadata": {
    "collapsed": false
   },
   "outputs": [],
   "source": [
    "#\n",
    "def gradDescentStep(x_predict,y,x):\n",
    "    i = 0\n",
    "    cost = 10\n",
    "    while (i < interations) and (cost > stopcondition):\n",
    "        temp0 = theta0 - alpha*(1/m)*sum(x_predict - y)\n",
    "        temp1 = theta1 - alpha*(1/m)*sum(x_predict - y)\n",
    "        i = i+1\n",
    "        cost = cost(temp0, temp1, x, y)"
   ]
  },
  {
   "cell_type": "code",
   "execution_count": null,
   "metadata": {
    "collapsed": false
   },
   "outputs": [],
   "source": [
    "\n"
   ]
  },
  {
   "cell_type": "code",
   "execution_count": null,
   "metadata": {
    "collapsed": true
   },
   "outputs": [],
   "source": []
  }
 ],
 "metadata": {
  "kernelspec": {
   "display_name": "Python 3",
   "language": "python",
   "name": "python3"
  },
  "language_info": {
   "codemirror_mode": {
    "name": "ipython",
    "version": 3
   },
   "file_extension": ".py",
   "mimetype": "text/x-python",
   "name": "python",
   "nbconvert_exporter": "python",
   "pygments_lexer": "ipython3",
   "version": "3.6.0"
  }
 },
 "nbformat": 4,
 "nbformat_minor": 2
}
