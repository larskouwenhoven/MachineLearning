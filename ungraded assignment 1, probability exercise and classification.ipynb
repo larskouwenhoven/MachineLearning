{
 "cells": [
  {
   "cell_type": "markdown",
   "metadata": {},
   "source": [
    "Throwing a fair dice\n",
    "#1 the probability space has three components, namely the          sample space, the event space and the probability function\n",
    "   the sample space is in this case (1,2,3,4,5,6)\n",
    "#2 the event space here would be throwing (1-1, 1-2, 1-3,1-4,1-    5,1-6,2-1,2-2,2-3,2-4,2-5,2-6,3-1,3-2,3-3,3-4,3-5,3-6,4-1,4-2,4-3,4-4,4-5,4-6,5-1,5-2,5-3,5-4,5-5,5-6,6-1,6-2,6-3,6-4,6-5,6-6.)\n",
    "#3 the probability of throwing 6 twice is 1/6 * 1/6 = 1/36\n",
    "#4 we can get 9 by throwing 4 first and then 5, by throwing 5      first and then 4, by throwing 6 first and then 3 and            throwing 3 first and then 6. So the total probability is        1/6*1/6 + 1/6*1/6 + 1/6*1/6 + 1/6*1/6= 1/9"
   ]
  },
  {
   "cell_type": "markdown",
   "metadata": {},
   "source": [
    "Venn Diagram\n",
    "#1 \n",
    "space 1= $U - A - B + (A \\cap B)$\n",
    "space 2 = $A$\n",
    "space 3 = $A \\cap B$\n",
    "space 4 = $B$\n",
    "#2 Given: $P(A)= 0,5 P(B)= 0,7 P(A \\cup B)= 0,8$\n",
    "$P(U - A - B + (A \\cup B)) = 0$\n",
    "$P(A) = 0,5$\n",
    "$P(A \\cup B) = P(A) + P(B) - P(A \\cap B) = 0,5 + 0,7 - 0,8 = 0,4$\n",
    "$P(B) = 0,7$"
   ]
  },
  {
   "cell_type": "markdown",
   "metadata": {},
   "source": [
    "Axioms and Theorems of Probability\n",
    "\n",
    "#1 As we can see when we draw the venn diagrams we have an area where A and B intersect. If we take the probability of A, we take the probability of the full circle of A, thus including the intersection area. If we then take the probability of B, we take the probability of the full circle of B, again including the intersection area. You can see that we count the intersection area twice. Therefore we have to subtract the probability of the intersection area one time. Therefore $$P(A \\cup B) = P(A) + P(B) - P(A \\cap B).$$\n",
    "We could also prove this by assuming that $$P(A \\cup B)$$ is not $$P(A) + P(B) - P(A \\cap B)$$ and then summing up all the probabilities of the different areas and then we would see that $P(U)$ is not 1, thus violating the second axiom\n",
    "\n",
    "#2 graphical proof: if we draw the Venn diagrams of A and B where they intersect in the middle, we call the part of circle A which is not intersecting B $(A \\cap \\lnot B)$ and the part which is intersecting (A n B). Together these parts make A. Therefore, the probability of (A n notB) plus the probability of $(A \\cap B)$ is the probability of A. \n",
    "algabraic proof: \n",
    "\n",
    "#3 $\\sum_{i=0}^\\infty P(A \\cap Bi)$ is equal to $\\sum_{i=0}^\\infty P(A) + P(B) - P(A u Bi)$. As Bi with i= 1,...n is a partition of U, the summation of Bi therefore is equal to U and thus the probability of Bi is 1 and the probability of $(A \\cup B)$ is 1 as well. So we get $\\sum_{i=0}^\\infty P(A n Bi)$ = $\\sum_{i=0}^\\infty P(A) + 1 - 1$. As P(A) does not contain an i, $\\sum_{i=0}^\\infty P(A)$ is just P(A). Thus we indeed get $\\sum_{i=0}^\\infty P(A n Bi)$ = P(A)"
   ]
  },
  {
   "cell_type": "markdown",
   "metadata": {},
   "source": [
    "Conditional Probability and Bayes Rule\n",
    "\n",
    "#1 $P(A|B) + P(\\lnot A|B)$ = 1 as well. We make our universe smaller to just the area of B. Then it is the same as $P(A) + P(\\lnot A)$, only just in a smaller universe, so the probability is 1.\n",
    "#2 We can not be sure about this, as we are talking about two different universes. Namely the \"B universe\" and the \"C universe\"\n",
    "#3 $(B \\cap \\lnot B)$ is the entire universe. So if we are adding the probability of $A$ in $B$ and the probability of $A$ in $ \\lnot B$, we get the probability of A in the entire universe, so just $P(A)$. \n",
    "#4 conditional probability is defined as: $P(A|B)= P(A n B)/P(B)$. so bayes rule is: $P(A \\cap B)/P(B) = (P(A)/P(B)) * (P(A \\cap B)/P(A)$. this is equal to $(P(A \\cap B)P(B))/P(B) = (P(A \\cap B)P(A))/P(A)$. So we get $P(A \\cap B) = P(A \\cap B)$. So we proved bayes rule. "
   ]
  },
  {
   "cell_type": "markdown",
   "metadata": {},
   "source": [
    "Marbles and Vases \n",
    "\n",
    "#1 the probability of P(C = \"white\") is 1/3*5/6 + 1/3*2/3 + 1/3*1/2 = 2/3\n",
    "#2 That if two independent events A and B happen, their probability is P(A)*P(B)\n",
    "#3 the probability that you pick a red marble is $P(3/11)$. the probability that if you have a red marble it belonged to vase 1 is $P(1/6)$. \n",
    "$$P(red marble, vase 2) = 3/11 * 1/3 = 09.09 $$\n",
    "$$P(red marble, vase 3) = 3/11 * 1/2 = 0.136$$\n",
    "$$P(white marble, vase 1) = 8/11 * 5/6$$\n",
    "$$P(white marble, vase 2) = 8/11 * 2/3$$\n",
    "$$P(white marble, vase 3) = 8/11 * 1/2$$"
   ]
  },
  {
   "cell_type": "code",
   "execution_count": 1,
   "metadata": {
    "collapsed": true
   },
   "outputs": [],
   "source": [
    "import csv"
   ]
  },
  {
   "cell_type": "code",
   "execution_count": 2,
   "metadata": {
    "collapsed": false
   },
   "outputs": [],
   "source": [
    "def read_instance(file): \n",
    "    #takes a file and reads it, returns the content of that file\n",
    "    list1 = []\n",
    "    with open(file, 'r') as file:\n",
    "        reader = csv.reader(file)\n",
    "        for i, instance in enumerate(reader):\n",
    "            instance = [int(i) for i in instance]\n",
    "            list1 = list1 + [instance]\n",
    "        return list1"
   ]
  },
  {
   "cell_type": "code",
   "execution_count": 7,
   "metadata": {
    "collapsed": true
   },
   "outputs": [],
   "source": [
    "import pandas as pd"
   ]
  },
  {
   "cell_type": "code",
   "execution_count": 12,
   "metadata": {
    "collapsed": true
   },
   "outputs": [],
   "source": [
    "import numpy as np"
   ]
  },
  {
   "cell_type": "code",
   "execution_count": 46,
   "metadata": {
    "collapsed": false
   },
   "outputs": [
    {
     "name": "stdout",
     "output_type": "stream",
     "text": [
      "   hallo  hallo.1  hallo.2  hallo.3\n",
      "0     M        60      183     42.0\n",
      "1     M       130      185     45.0\n",
      "2     M        84      180     42.0\n",
      "3     M        65      195     45.0\n",
      "4     M        55      170     42.0\n",
      "5      F       63      173     41.0\n",
      "6     M        74      185     43.0\n",
      "7      F       50      170     38.0\n",
      "8      F       82      180     42.0\n",
      "9     M        77      190     44.0\n",
      "10    M        76      179     43.0\n",
      "11    M        66      178     42.0\n",
      "12    M        79      186     45.0\n",
      "13    M        76      189     44.0\n",
      "14    M        75      175     42.0\n",
      "15    M        90      190     46.0\n",
      "16    M        70      180     41.0\n",
      "17     F       46      164     36.0\n",
      "18    M        98      189     44.0\n",
      "19    M        79      180     43.0\n",
      "20    M        67      189     44.0\n",
      "21    M        81      190     45.3\n",
      "22    M        85      190     44.5\n",
      "23    M        75      188     44.0\n",
      "24    M        70      178     43.0\n",
      "25    M        60      180     43.0\n",
      "26    M        73      192     44.0\n",
      "27    M        76      174     42.0\n",
      "28    M        78      187     44.0\n",
      "29     F       75      162     38.0\n",
      "30     F       50      165     37.0\n",
      "31    M        76      188     44.5\n",
      "32    M        73      180     43.0\n"
     ]
    }
   ],
   "source": [
    "df= pd.read_csv('biometrie2014.csv')\n",
    "print(df)"
   ]
  },
  {
   "cell_type": "code",
   "execution_count": 41,
   "metadata": {
    "collapsed": false
   },
   "outputs": [],
   "source": [
    "col1 = df.iloc[:, 0]"
   ]
  },
  {
   "cell_type": "code",
   "execution_count": 42,
   "metadata": {
    "collapsed": false
   },
   "outputs": [
    {
     "name": "stdout",
     "output_type": "stream",
     "text": [
      "0     M \n",
      "1     M \n",
      "2     M \n",
      "3     M \n",
      "4     M \n",
      "5      F\n",
      "6     M \n",
      "7      F\n",
      "8      F\n",
      "9     M \n",
      "10    M \n",
      "11    M \n",
      "12    M \n",
      "13    M \n",
      "14    M \n",
      "15    M \n",
      "16    M \n",
      "17     F\n",
      "18    M \n",
      "19    M \n",
      "20    M \n",
      "21    M \n",
      "22    M \n",
      "23    M \n",
      "24    M \n",
      "25    M \n",
      "26    M \n",
      "27    M \n",
      "28    M \n",
      "29     F\n",
      "30     F\n",
      "31    M \n",
      "32    M \n",
      "Name: hallo, dtype: object\n"
     ]
    }
   ],
   "source": [
    "print(col1)"
   ]
  },
  {
   "cell_type": "code",
   "execution_count": 39,
   "metadata": {
    "collapsed": false
   },
   "outputs": [
    {
     "name": "stdout",
     "output_type": "stream",
     "text": [
      "0      60\n",
      "1     130\n",
      "2      84\n",
      "3      65\n",
      "4      55\n",
      "5      63\n",
      "6      74\n",
      "7      50\n",
      "8      82\n",
      "9      77\n",
      "10     76\n",
      "11     66\n",
      "12     79\n",
      "13     76\n",
      "14     75\n",
      "15     90\n",
      "16     70\n",
      "17     46\n",
      "18     98\n",
      "19     79\n",
      "20     67\n",
      "21     81\n",
      "22     85\n",
      "23     75\n",
      "24     70\n",
      "25     60\n",
      "26     73\n",
      "27     76\n",
      "28     78\n",
      "29     75\n",
      "30     50\n",
      "31     76\n",
      "32     73\n",
      "Name: hallo.1, dtype: int64\n"
     ]
    }
   ],
   "source": [
    "colGewicht2 = df.iloc[:, 1]\n",
    "print(colGewicht2)"
   ]
  },
  {
   "cell_type": "code",
   "execution_count": 44,
   "metadata": {
    "collapsed": false
   },
   "outputs": [
    {
     "data": {
      "text/plain": [
       "73.75757575757575"
      ]
     },
     "execution_count": 44,
     "metadata": {},
     "output_type": "execute_result"
    }
   ],
   "source": [
    "np.mean(colGewicht2)"
   ]
  },
  {
   "cell_type": "code",
   "execution_count": 63,
   "metadata": {
    "collapsed": false
   },
   "outputs": [],
   "source": [
    "data = np.genfromtxt(fname='biometrie2014.csv', skip_header=5, delimiter=\",\",converters={0: lambda x : float(x[0] == 70)})"
   ]
  },
  {
   "cell_type": "code",
   "execution_count": 64,
   "metadata": {
    "collapsed": false
   },
   "outputs": [
    {
     "name": "stdout",
     "output_type": "stream",
     "text": [
      "[[   0.    60.   183.    42. ]\n",
      " [   0.   130.   185.    45. ]\n",
      " [   0.    84.   180.    42. ]\n",
      " [   0.    65.   195.    45. ]\n",
      " [   0.    55.   170.    42. ]\n",
      " [   1.    63.   173.    41. ]\n",
      " [   0.    74.   185.    43. ]\n",
      " [   1.    50.   170.    38. ]\n",
      " [   1.    82.   180.    42. ]\n",
      " [   0.    77.   190.    44. ]\n",
      " [   0.    76.   179.    43. ]\n",
      " [   0.    66.   178.    42. ]\n",
      " [   0.    79.   186.    45. ]\n",
      " [   0.    76.   189.    44. ]\n",
      " [   0.    75.   175.    42. ]\n",
      " [   0.    90.   190.    46. ]\n",
      " [   0.    70.   180.    41. ]\n",
      " [   1.    46.   164.    36. ]\n",
      " [   0.    98.   189.    44. ]\n",
      " [   0.    79.   180.    43. ]\n",
      " [   0.    67.   189.    44. ]\n",
      " [   0.    81.   190.    45.3]\n",
      " [   0.    85.   190.    44.5]\n",
      " [   0.    75.   188.    44. ]\n",
      " [   0.    70.   178.    43. ]\n",
      " [   0.    60.   180.    43. ]\n",
      " [   0.    73.   192.    44. ]\n",
      " [   0.    76.   174.    42. ]\n",
      " [   0.    78.   187.    44. ]\n",
      " [   1.    75.   162.    38. ]\n",
      " [   1.    50.   165.    37. ]\n",
      " [   0.    76.   188.    44.5]\n",
      " [   0.    73.   180.    43. ]]\n"
     ]
    }
   ],
   "source": [
    "print(data)"
   ]
  },
  {
   "cell_type": "code",
   "execution_count": 72,
   "metadata": {
    "collapsed": false
   },
   "outputs": [],
   "source": [
    "females = data[data[:,0]==1]"
   ]
  },
  {
   "cell_type": "code",
   "execution_count": 73,
   "metadata": {
    "collapsed": false
   },
   "outputs": [
    {
     "name": "stdout",
     "output_type": "stream",
     "text": [
      "[[   1.   63.  173.   41.]\n",
      " [   1.   50.  170.   38.]\n",
      " [   1.   82.  180.   42.]\n",
      " [   1.   46.  164.   36.]\n",
      " [   1.   75.  162.   38.]\n",
      " [   1.   50.  165.   37.]]\n"
     ]
    }
   ],
   "source": [
    "print(females)"
   ]
  },
  {
   "cell_type": "code",
   "execution_count": 157,
   "metadata": {
    "collapsed": false
   },
   "outputs": [
    {
     "name": "stdout",
     "output_type": "stream",
     "text": [
      "61.0\n"
     ]
    }
   ],
   "source": [
    "meanweightfemales = np.mean(females[:,1])\n",
    "print(meanweightfemales)"
   ]
  },
  {
   "cell_type": "code",
   "execution_count": 158,
   "metadata": {
    "collapsed": false
   },
   "outputs": [
    {
     "name": "stdout",
     "output_type": "stream",
     "text": [
      "169.0\n"
     ]
    }
   ],
   "source": [
    "meanheightfemales = np.mean(females[:,2])\n",
    "print(meanheightfemales)"
   ]
  },
  {
   "cell_type": "code",
   "execution_count": 159,
   "metadata": {
    "collapsed": false
   },
   "outputs": [
    {
     "name": "stdout",
     "output_type": "stream",
     "text": [
      "38.6666666667\n"
     ]
    }
   ],
   "source": [
    "meanshoesizefemales = np.mean(females[:,3])\n",
    "print(meanshoesizefemales)"
   ]
  },
  {
   "cell_type": "code",
   "execution_count": 160,
   "metadata": {
    "collapsed": false
   },
   "outputs": [
    {
     "name": "stdout",
     "output_type": "stream",
     "text": [
      "[[   0.    60.   183.    42. ]\n",
      " [   0.   130.   185.    45. ]\n",
      " [   0.    84.   180.    42. ]\n",
      " [   0.    65.   195.    45. ]\n",
      " [   0.    55.   170.    42. ]\n",
      " [   0.    74.   185.    43. ]\n",
      " [   0.    77.   190.    44. ]\n",
      " [   0.    76.   179.    43. ]\n",
      " [   0.    66.   178.    42. ]\n",
      " [   0.    79.   186.    45. ]\n",
      " [   0.    76.   189.    44. ]\n",
      " [   0.    75.   175.    42. ]\n",
      " [   0.    90.   190.    46. ]\n",
      " [   0.    70.   180.    41. ]\n",
      " [   0.    98.   189.    44. ]\n",
      " [   0.    79.   180.    43. ]\n",
      " [   0.    67.   189.    44. ]\n",
      " [   0.    81.   190.    45.3]\n",
      " [   0.    85.   190.    44.5]\n",
      " [   0.    75.   188.    44. ]\n",
      " [   0.    70.   178.    43. ]\n",
      " [   0.    60.   180.    43. ]\n",
      " [   0.    73.   192.    44. ]\n",
      " [   0.    76.   174.    42. ]\n",
      " [   0.    78.   187.    44. ]\n",
      " [   0.    76.   188.    44.5]\n",
      " [   0.    73.   180.    43. ]]\n"
     ]
    }
   ],
   "source": [
    "males = data[data[:,0]==0]\n",
    "print(males)"
   ]
  },
  {
   "cell_type": "code",
   "execution_count": 161,
   "metadata": {
    "collapsed": false
   },
   "outputs": [
    {
     "name": "stdout",
     "output_type": "stream",
     "text": [
      "76.5925925926\n"
     ]
    }
   ],
   "source": [
    "meanweightmales = np.mean(males[:,1])\n",
    "print(meanweightmales)"
   ]
  },
  {
   "cell_type": "code",
   "execution_count": 162,
   "metadata": {
    "collapsed": false
   },
   "outputs": [
    {
     "name": "stdout",
     "output_type": "stream",
     "text": [
      "184.074074074\n"
     ]
    }
   ],
   "source": [
    "meanheightmales = np.mean(males[:,2])\n",
    "print(meanheightmales)"
   ]
  },
  {
   "cell_type": "code",
   "execution_count": 163,
   "metadata": {
    "collapsed": false
   },
   "outputs": [
    {
     "name": "stdout",
     "output_type": "stream",
     "text": [
      "43.4925925926\n"
     ]
    }
   ],
   "source": [
    "meanshoesizemales = np.mean(males[:,3])\n",
    "print(meanshoesizemales)"
   ]
  },
  {
   "cell_type": "code",
   "execution_count": 164,
   "metadata": {
    "collapsed": false
   },
   "outputs": [],
   "source": [
    "stdfemalesshoesize = np.std(females[:,3])"
   ]
  },
  {
   "cell_type": "code",
   "execution_count": 165,
   "metadata": {
    "collapsed": false
   },
   "outputs": [],
   "source": [
    "stdmaleshoesize = np.std(males[:,3])"
   ]
  },
  {
   "cell_type": "code",
   "execution_count": 166,
   "metadata": {
    "collapsed": false
   },
   "outputs": [
    {
     "name": "stdout",
     "output_type": "stream",
     "text": [
      "13.5892114071\n"
     ]
    }
   ],
   "source": [
    "stdfemaleweight = np.std(females[:,1])\n",
    "print(stdfemaleweight)"
   ]
  },
  {
   "cell_type": "code",
   "execution_count": 167,
   "metadata": {
    "collapsed": false
   },
   "outputs": [
    {
     "name": "stdout",
     "output_type": "stream",
     "text": [
      "6.16441400297\n"
     ]
    }
   ],
   "source": [
    "stdfemaleheight = np.std(females[:,2])\n",
    "print(stdfemaleheight)"
   ]
  },
  {
   "cell_type": "code",
   "execution_count": 168,
   "metadata": {
    "collapsed": false
   },
   "outputs": [
    {
     "name": "stdout",
     "output_type": "stream",
     "text": [
      "13.7847453509\n"
     ]
    }
   ],
   "source": [
    "stdmaleweight = np.std(males[:,1])\n",
    "print(stdmaleweight)"
   ]
  },
  {
   "cell_type": "code",
   "execution_count": 201,
   "metadata": {
    "collapsed": false
   },
   "outputs": [
    {
     "name": "stdout",
     "output_type": "stream",
     "text": [
      "6.10358683815\n"
     ]
    }
   ],
   "source": [
    "stdmaleheight = np.std(males[:,2])\n",
    "print(stdmaleheight)"
   ]
  },
  {
   "cell_type": "code",
   "execution_count": 202,
   "metadata": {
    "collapsed": true
   },
   "outputs": [],
   "source": [
    "import math"
   ]
  },
  {
   "cell_type": "code",
   "execution_count": 256,
   "metadata": {
    "collapsed": false
   },
   "outputs": [
    {
     "data": {
      "text/plain": [
       "2.718281828459045"
      ]
     },
     "execution_count": 256,
     "metadata": {},
     "output_type": "execute_result"
    }
   ],
   "source": [
    "from math import e\n",
    "np.e"
   ]
  },
  {
   "cell_type": "code",
   "execution_count": 220,
   "metadata": {
    "collapsed": false
   },
   "outputs": [],
   "source": [
    "def normalpdfweight(w, mu, sigma):\n",
    "    return (1/(sigma*(2*2.14)**0.5))*(e**((w-mu)**2)/(2*(sigma)**2))"
   ]
  },
  {
   "cell_type": "code",
   "execution_count": 221,
   "metadata": {
    "collapsed": true
   },
   "outputs": [],
   "source": [
    "def normalpdfheight(h, mu, sigma):\n",
    "    return (1/(sigma*(2*2.14)**0.5))*(e**((h-mu)**2)/(2*(sigma)**2))"
   ]
  },
  {
   "cell_type": "code",
   "execution_count": 222,
   "metadata": {
    "collapsed": true
   },
   "outputs": [],
   "source": [
    "def normalpdfshoesize(s, mu, sigma):\n",
    "    return (1/(sigma*(2*2.14)**0.5))*(e**((s-mu)**2)/(2*(sigma)**2))"
   ]
  },
  {
   "cell_type": "code",
   "execution_count": 223,
   "metadata": {
    "collapsed": false
   },
   "outputs": [],
   "source": [
    "def maleweightnormalpdf(w):\n",
    "    return (normalpdfweight(w, meanweightmales, stdmaleweight))"
   ]
  },
  {
   "cell_type": "code",
   "execution_count": 224,
   "metadata": {
    "collapsed": false
   },
   "outputs": [],
   "source": [
    "def maleheightnormalpdf(h):\n",
    "    return (normalpdf(h, meanheightmales, stdmaleweight))"
   ]
  },
  {
   "cell_type": "code",
   "execution_count": 225,
   "metadata": {
    "collapsed": true
   },
   "outputs": [],
   "source": [
    "def maleshoesizenormalpdf(s):\n",
    "    return (normalpdf(s, meanshoesizemales, stdmaleshoesize))"
   ]
  },
  {
   "cell_type": "code",
   "execution_count": 226,
   "metadata": {
    "collapsed": false
   },
   "outputs": [
    {
     "data": {
      "text/plain": [
       "0.16563557886371427"
      ]
     },
     "execution_count": 226,
     "metadata": {},
     "output_type": "execute_result"
    }
   ],
   "source": [
    "maleshoesizenormalpdf(44)"
   ]
  },
  {
   "cell_type": "code",
   "execution_count": 227,
   "metadata": {
    "collapsed": true
   },
   "outputs": [],
   "source": [
    "def femaleweightnormalpdf(w):\n",
    "    return (normalpdf(w, meanweightfemales, stdfemaleweight))"
   ]
  },
  {
   "cell_type": "code",
   "execution_count": 228,
   "metadata": {
    "collapsed": true
   },
   "outputs": [],
   "source": [
    "def femaleheightnormalpdf(h):\n",
    "    return (normalpdf(h, meanheightfemales, stdfemaleheight))"
   ]
  },
  {
   "cell_type": "code",
   "execution_count": 234,
   "metadata": {
    "collapsed": true
   },
   "outputs": [],
   "source": [
    "def femaleshoesizenormalpdf(s):\n",
    "    return (normalpdf(s, meanshoesizefemales, stdfemalesshoesize))"
   ]
  },
  {
   "cell_type": "code",
   "execution_count": 241,
   "metadata": {
    "collapsed": false
   },
   "outputs": [],
   "source": [
    "def M(w,h,s):\n",
    "    return (maleweightnormalpdf(w)*maleheightnormalpdf(h)*maleshoesizenormalpdf(s)*(27/33))"
   ]
  },
  {
   "cell_type": "code",
   "execution_count": 242,
   "metadata": {
    "collapsed": true
   },
   "outputs": [],
   "source": [
    "def F(w,h,s):\n",
    "    return (femaleweightnormalpdf(w)*femaleheightnormalpdf(h)*femaleshoesizenormalpdf(s)*(6/33))"
   ]
  },
  {
   "cell_type": "code",
   "execution_count": 248,
   "metadata": {
    "collapsed": true
   },
   "outputs": [],
   "source": [
    "def Classify(w,h,s):\n",
    "    if F(w,h,s) >= M(w,h,s):\n",
    "        return(\"Female\")\n",
    "    else:\n",
    "        return(\"Male\")\n",
    "   \n",
    "    \n",
    "\n",
    "\n"
   ]
  },
  {
   "cell_type": "code",
   "execution_count": 249,
   "metadata": {
    "collapsed": false
   },
   "outputs": [
    {
     "data": {
      "text/plain": [
       "'Male'"
      ]
     },
     "execution_count": 249,
     "metadata": {},
     "output_type": "execute_result"
    }
   ],
   "source": [
    "Classify(60,183,42)"
   ]
  },
  {
   "cell_type": "code",
   "execution_count": 250,
   "metadata": {
    "collapsed": false
   },
   "outputs": [
    {
     "data": {
      "text/plain": [
       "'Male'"
      ]
     },
     "execution_count": 250,
     "metadata": {},
     "output_type": "execute_result"
    }
   ],
   "source": [
    "Classify(6,173,41)"
   ]
  },
  {
   "cell_type": "code",
   "execution_count": 251,
   "metadata": {
    "collapsed": false
   },
   "outputs": [
    {
     "name": "stderr",
     "output_type": "stream",
     "text": [
      "/Users/charlotteout/anaconda/lib/python3.6/site-packages/ipykernel/__main__.py:2: RuntimeWarning: overflow encountered in double_scalars\n",
      "  from ipykernel import kernelapp as app\n"
     ]
    },
    {
     "data": {
      "text/plain": [
       "'Female'"
      ]
     },
     "execution_count": 251,
     "metadata": {},
     "output_type": "execute_result"
    }
   ],
   "source": [
    "Classify(40,150,35)"
   ]
  },
  {
   "cell_type": "code",
   "execution_count": 255,
   "metadata": {
    "collapsed": false
   },
   "outputs": [
    {
     "name": "stdout",
     "output_type": "stream",
     "text": [
      "0.0 Male\n",
      "0.0 Female\n",
      "0.0 Female\n",
      "0.0 Female\n",
      "0.0 Male\n",
      "1.0 Male\n",
      "0.0 Female\n",
      "1.0 Male\n",
      "1.0 Female\n",
      "0.0 Female\n",
      "0.0 Female\n",
      "0.0 Male\n",
      "0.0 Female\n",
      "0.0 Female\n",
      "0.0 Female\n",
      "0.0 Female\n",
      "0.0 Female\n",
      "1.0 Male\n",
      "0.0 Female\n",
      "0.0 Female\n",
      "0.0 Female\n",
      "0.0 Female\n",
      "0.0 Female\n",
      "0.0 Female\n",
      "0.0 Female\n",
      "0.0 Male\n",
      "0.0 Female\n",
      "0.0 Female\n",
      "0.0 Female\n",
      "1.0 Male\n",
      "1.0 Male\n",
      "0.0 Female\n",
      "0.0 Female\n"
     ]
    },
    {
     "name": "stderr",
     "output_type": "stream",
     "text": [
      "/Users/charlotteout/anaconda/lib/python3.6/site-packages/ipykernel/__main__.py:2: RuntimeWarning: overflow encountered in double_scalars\n",
      "  from ipykernel import kernelapp as app\n"
     ]
    }
   ],
   "source": [
    "for d in data:\n",
    "    print(d[0], Classify(*d[1:]))"
   ]
  },
  {
   "cell_type": "code",
   "execution_count": null,
   "metadata": {
    "collapsed": true
   },
   "outputs": [],
   "source": []
  }
 ],
 "metadata": {
  "kernelspec": {
   "display_name": "Python 3",
   "language": "python",
   "name": "python3"
  },
  "language_info": {
   "codemirror_mode": {
    "name": "ipython",
    "version": 3
   },
   "file_extension": ".py",
   "mimetype": "text/x-python",
   "name": "python",
   "nbconvert_exporter": "python",
   "pygments_lexer": "ipython3",
   "version": "3.6.0"
  }
 },
 "nbformat": 4,
 "nbformat_minor": 2
}
