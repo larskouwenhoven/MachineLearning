{
 "cells": [
  {
   "cell_type": "markdown",
   "metadata": {
    "raw_mimetype": "text/markdown"
   },
   "source": [
    "# Graded Lab Assignment: Logistic Regression\n",
    "\n",
    "In this assignment you will classify hand-written digits using logistic regression.\n",
    "\n",
    "The assignment follows Andrew Ng's explanation of Logistic Regression and (re)watching his videos could be useful (Week 3)\n",
    "\n",
    "Publish your notebook (ipynb file) to your Machine Learning repository on Github ON TIME. We will check the last commit on the day of the deadline. \n",
    "\n",
    "### Deadline Tuesday, October 10th, 23:59\n",
    "\n",
    "Do not hand in any other files, the Notebook should contain all your answers.\n",
    "\n",
    "The points for the assignmnet are distributed as follows:\n",
    "* The implementation\n",
    "    - prediction_function\n",
    "    - cost_function\n",
    "    - compute_gradient\n",
    "    - correct stop condition\n",
    "    - preventing overfitting\n",
    "    - systematically choosing learning rate \n",
    "    - \n",
    "    "
   ]
  },
  {
   "cell_type": "code",
   "execution_count": 143,
   "metadata": {
    "collapsed": false
   },
   "outputs": [],
   "source": [
    "import sklearn"
   ]
  },
  {
   "cell_type": "code",
   "execution_count": 144,
   "metadata": {
    "collapsed": false
   },
   "outputs": [
    {
     "name": "stdout",
     "output_type": "stream",
     "text": [
      "Populating the interactive namespace from numpy and matplotlib\n"
     ]
    }
   ],
   "source": [
    "%pylab inline"
   ]
  },
  {
   "cell_type": "markdown",
   "metadata": {},
   "source": [
    "Scikit-learn is a toolkit that has several datasets built in. You first need to install the toolkit: http://scikit-learn.org/stable/install.html\n",
    "\n",
    "The MNIST dataset that you will be using for this assignment contains images of hand-written digits that are only 8 by 8 pixels, which means the algorithm (logistic regression) should run on every computer.\n",
    "\n",
    "The code in the cell below shows how to work with the digits dataset and  how to visualize it. As you can see the numbers are not very clear in 8x8 pixels images, this means we cannot expect our logistic regression will have a very high classification score."
   ]
  },
  {
   "cell_type": "code",
   "execution_count": 147,
   "metadata": {
    "collapsed": false
   },
   "outputs": [
    {
     "name": "stdout",
     "output_type": "stream",
     "text": [
      "The numbers shown are: \n",
      " [[0 1 2 3 4]\n",
      " [5 6 7 8 9]]\n"
     ]
    },
    {
     "data": {
      "image/png": "[encoded data removed]",
      "text/plain": [
       "<matplotlib.figure.Figure at 0x1139f4e80>"
      ]
     },
     "metadata": {},
     "output_type": "display_data"
    }
   ],
   "source": [
    "from sklearn.datasets import load_digits\n",
    "\n",
    "digits = load_digits(n_class=10)\n",
    "\n",
    "#Create two rows with numbers\n",
    "firstrow = np.hstack(digits.images[:5,:,:])\n",
    "secondrow = np.hstack(digits.images[5:10,:,:])\n",
    "\n",
    "plt.gray()\n",
    "plt.axis('off')\n",
    "\n",
    "#Show both rows at the same time\n",
    "plt.imshow(np.vstack((firstrow,secondrow)))\n",
    "\n",
    "print (\"The numbers shown are: \\n\", np.vstack((digits.target[:5], digits.target[5:10])))"
   ]
  },
  {
   "cell_type": "markdown",
   "metadata": {},
   "source": [
    "## The implementation\n",
    "\n",
    "You have to implement the next three functions and fill in the body of the loop in order to create a correct implementation of logistic regression. Don't change the definitions of the functions and input parameters.\n",
    "\n",
    "(1) Make sure that you do not overfit by keeping track of the score on the test set and implementing a correct stop condition. \n",
    "(2) Systematically pick a learning rate alpha that makes sure the algorithm learns in a smooth and stable manner (show how you do it). \n",
    "(3) Plot how your score on the test set improves over time. My best score was about 85% correct!\n",
    "(4) Make sure to comment your code!"
   ]
  },
  {
   "cell_type": "code",
   "execution_count": 160,
   "metadata": {
    "collapsed": false
   },
   "outputs": [
    {
     "name": "stdout",
     "output_type": "stream",
     "text": [
      "(1500, 64) (64, 10) (10,)\n",
      "1500\n"
     ]
    }
   ],
   "source": [
    "#Make a prediction function h\n",
    "print(shape(x),shape(theta),shape(x_predict))\n",
    "print(x.shape[0])\n",
    "#our prediction function should output a value as close\n",
    "#to one as possible for a certain \"class\" such that it classifies the \n",
    "#correct number\n",
    "def prediction_function(x,theta):\n",
    "    ex = exp(-dot(theta.T,x))\n",
    "    x_predict = 1/(1+ ex)\n",
    "    return x_predict"
   ]
  },
  {
   "cell_type": "code",
   "execution_count": 159,
   "metadata": {
    "collapsed": false
   },
   "outputs": [
    {
     "name": "stdout",
     "output_type": "stream",
     "text": [
      "(10,) (10,)\n"
     ]
    }
   ],
   "source": [
    "#Use the output of that function to compute the cost function J:\n",
    "print(shape(x_predict),shape(y))\n",
    "def cost_function(x_predict,y):\n",
    "    m = X.shape[0]\n",
    "    cost = (y*log(x_predict)) + (1-y)*log(1-x_predict)\n",
    "    J = - sum(cost) / size(x_predict)\n",
    "    return cost "
   ]
  },
  {
   "cell_type": "code",
   "execution_count": 175,
   "metadata": {
    "collapsed": false
   },
   "outputs": [
    {
     "name": "stdout",
     "output_type": "stream",
     "text": [
      "(10,) (10,) (1500, 64) (10, 64)\n"
     ]
    }
   ],
   "source": [
    "#Create a function that returns the gradient values, given h (x_predict), y and x:\n",
    "print(shape(x_predict), shape(y), shape(x), shape(dtheta))\n",
    "def compute_gradient(x_predict, y, x):\n",
    "    d = outer((x_predict - y),x)\n",
    "    dtheta = np.reshape(d,(64,10))\n",
    "    return dtheta \n",
    "    "
   ]
  },
  {
   "cell_type": "code",
   "execution_count": null,
   "metadata": {
    "collapsed": false
   },
   "outputs": [],
   "source": []
  },
  {
   "cell_type": "code",
   "execution_count": 212,
   "metadata": {
    "collapsed": false
   },
   "outputs": [
    {
     "name": "stdout",
     "output_type": "stream",
     "text": [
      "(1500, 64)\n",
      "(297, 64)\n"
     ]
    },
    {
     "name": "stderr",
     "output_type": "stream",
     "text": [
      "/Users/charlotteout/anaconda/lib/python3.6/site-packages/ipykernel/__main__.py:5: RuntimeWarning: overflow encountered in exp\n"
     ]
    },
    {
     "name": "stdout",
     "output_type": "stream",
     "text": [
      "range(0, 25)\n"
     ]
    },
    {
     "data": {
      "image/png": "[encoded data removed]",
      "text/plain": [
       "<matplotlib.figure.Figure at 0x113a2c748>"
      ]
     },
     "metadata": {},
     "output_type": "display_data"
    },
    {
     "name": "stdout",
     "output_type": "stream",
     "text": [
      "0.003367003367003367\n"
     ]
    }
   ],
   "source": [
    "\n",
    "\n",
    "#Variables\n",
    "iterations = 25\n",
    "theta = np.zeros((64,10))\n",
    "stop_condition = 1\n",
    "cost = 10\n",
    "alpha = 0.02\n",
    "\n",
    "\n",
    "\n",
    "x = np.reshape(digits.images[:1500],(1500,64))\n",
    "print(x.shape)\n",
    "x_test = np.reshape(digits.images[1500:],(297,64))\n",
    "print(x_test.shape)\n",
    "\n",
    "#These are the target datasets\n",
    "target = digits.target[:1500]\n",
    "target_test = digits.target[1500:]\n",
    "\n",
    "#define an array with the accuracy after every iteration\n",
    "accuracy_array = []\n",
    "\n",
    "\n",
    "for i in range(iterations):\n",
    "    #apply gradient descent on x for suitable learning \n",
    "    \n",
    "    for j in range(x.shape[0]):\n",
    "                x_predict = prediction_function(x[j,:].T,theta) #chance of it being a certain number\n",
    "                y = np.zeros(10) \n",
    "                y[target[j]] = 1 #the position j indicates which number it is\n",
    "                \n",
    "                #calculate our dtheta\n",
    "                dtheta = compute_gradient(x_predict, y, x[j,:])\n",
    "                theta -= alpha*dtheta\n",
    "    \n",
    "    \n",
    "    \n",
    "    for j in range(x_test.shape[0]):\n",
    "        #loops through every row of x_test and checks wether the prediction\n",
    "        #is correct\n",
    "        \n",
    "        #define the corresponding prediction function\n",
    "        x_predict = prediction_function(x_test[j,:].T, theta)\n",
    "        \n",
    "        if np.argmax(x_predict) == target_test[j]:\n",
    "            correct = 0\n",
    "            #Checks if the prediction is correct and update correct variable\n",
    "            correct = correct + 1\n",
    "    \n",
    "    #define the corresponding accuracy and append to accuracy_array\n",
    "    accuracy = correct / x_test.shape[0]\n",
    "    accuracy_array.append(accuracy)\n",
    "\n",
    "#define array with the iterations, we want to plot how the accuracy changes\n",
    "#over the number of interations we do\n",
    "IterationsArray = range(iterations)\n",
    "\n",
    "print(IterationsArray)\n",
    "\n",
    "plt.plot(IterationsArray,accuracy_array)\n",
    "plt.show()\n",
    "\n",
    "print(accuracy)\n",
    "            \n",
    "                    \n",
    "\n",
    "        \n",
    "\n",
    "    \n"
   ]
  },
  {
   "cell_type": "code",
   "execution_count": null,
   "metadata": {
    "collapsed": false
   },
   "outputs": [],
   "source": []
  },
  {
   "cell_type": "code",
   "execution_count": null,
   "metadata": {
    "collapsed": false
   },
   "outputs": [],
   "source": [
    "\n"
   ]
  },
  {
   "cell_type": "code",
   "execution_count": null,
   "metadata": {
    "collapsed": true
   },
   "outputs": [],
   "source": []
  },
  {
   "cell_type": "code",
   "execution_count": null,
   "metadata": {
    "collapsed": true
   },
   "outputs": [],
   "source": []
  }
 ],
 "metadata": {
  "anaconda-cloud": {},
  "celltoolbar": "Raw Cell Format",
  "kernelspec": {
   "display_name": "Python 3",
   "language": "python",
   "name": "python3"
  },
  "language_info": {
   "codemirror_mode": {
    "name": "ipython",
    "version": 3
   },
   "file_extension": ".py",
   "mimetype": "text/x-python",
   "name": "python",
   "nbconvert_exporter": "python",
   "pygments_lexer": "ipython3",
   "version": "3.6.0"
  }
 },
 "nbformat": 4,
 "nbformat_minor": 0
}
