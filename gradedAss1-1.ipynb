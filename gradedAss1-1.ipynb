{
 "cells": [
  {
   "cell_type": "markdown",
   "metadata": {
    "raw_mimetype": "text/markdown"
   },
   "source": [
    "# Graded Lab Assignment: Logistic Regression\n",
    "\n",
    "In this assignment you will classify hand-written digits using logistic regression.\n",
    "\n",
    "The assignment follows Andrew Ng's explanation of Logistic Regression and (re)watching his videos could be useful (Week 3)\n",
    "\n",
    "Publish your notebook (ipynb file) to your Machine Learning repository on Github ON TIME. We will check the last commit on the day of the deadline. \n",
    "\n",
    "### Deadline Tuesday, October 10th, 23:59\n",
    "\n",
    "Do not hand in any other files, the Notebook should contain all your answers.\n",
    "\n",
    "The points for the assignmnet are distributed as follows:\n",
    "* The implementation\n",
    "    - prediction_function\n",
    "    - cost_function\n",
    "    - compute_gradient\n",
    "    - correct stop condition\n",
    "    - preventing overfitting\n",
    "    - systematically choosing learning rate \n",
    "    - \n",
    "    "
   ]
  },
  {
   "cell_type": "code",
   "execution_count": 1,
   "metadata": {
    "collapsed": false
   },
   "outputs": [],
   "source": [
    "import sklearn"
   ]
  },
  {
   "cell_type": "code",
   "execution_count": 2,
   "metadata": {
    "collapsed": false
   },
   "outputs": [
    {
     "name": "stdout",
     "output_type": "stream",
     "text": [
      "Populating the interactive namespace from numpy and matplotlib\n"
     ]
    }
   ],
   "source": [
    "%pylab inline"
   ]
  },
  {
   "cell_type": "markdown",
   "metadata": {},
   "source": [
    "Scikit-learn is a toolkit that has several datasets built in. You first need to install the toolkit: http://scikit-learn.org/stable/install.html\n",
    "\n",
    "The MNIST dataset that you will be using for this assignment contains images of hand-written digits that are only 8 by 8 pixels, which means the algorithm (logistic regression) should run on every computer.\n",
    "\n",
    "The code in the cell below shows how to work with the digits dataset and  how to visualize it. As you can see the numbers are not very clear in 8x8 pixels images, this means we cannot expect our logistic regression will have a very high classification score."
   ]
  },
  {
   "cell_type": "code",
   "execution_count": 3,
   "metadata": {
    "collapsed": false
   },
   "outputs": [
    {
     "name": "stdout",
     "output_type": "stream",
     "text": [
      "The numbers shown are: \n",
      " [[0 1 2 3 4]\n",
      " [5 6 7 8 9]]\n"
     ]
    },
    {
     "data": {
      "image/png": "[encoded data removed]",
      "text/plain": [
       "<matplotlib.figure.Figure at 0x114103518>"
      ]
     },
     "metadata": {},
     "output_type": "display_data"
    }
   ],
   "source": [
    "from sklearn.datasets import load_digits\n",
    "\n",
    "digits = load_digits(n_class=10)\n",
    "\n",
    "#Create two rows with numbers\n",
    "firstrow = np.hstack(digits.images[:5,:,:])\n",
    "secondrow = np.hstack(digits.images[5:10,:,:])\n",
    "\n",
    "plt.gray()\n",
    "plt.axis('off')\n",
    "\n",
    "#Show both rows at the same time\n",
    "plt.imshow(np.vstack((firstrow,secondrow)))\n",
    "\n",
    "print (\"The numbers shown are: \\n\", np.vstack((digits.target[:5], digits.target[5:10])))"
   ]
  },
  {
   "cell_type": "markdown",
   "metadata": {},
   "source": [
    "## The implementation\n",
    "\n",
    "You have to implement the next three functions and fill in the body of the loop in order to create a correct implementation of logistic regression. Don't change the definitions of the functions and input parameters.\n",
    "\n",
    "(1) Make sure that you do not overfit by keeping track of the score on the test set and implementing a correct stop condition. \n",
    "(2) Systematically pick a learning rate alpha that makes sure the algorithm learns in a smooth and stable manner (show how you do it). \n",
    "(3) Plot how your score on the test set improves over time. My best score was about 85% correct!\n",
    "(4) Make sure to comment your code!"
   ]
  },
  {
   "cell_type": "code",
   "execution_count": 4,
   "metadata": {
    "collapsed": false
   },
   "outputs": [],
   "source": [
    "#we define our prediction function\n",
    "def prediction_function(x,theta):\n",
    "    ex = exp(-dot(theta.T,x))\n",
    "    return 1/(1+ ex)"
   ]
  },
  {
   "cell_type": "code",
   "execution_count": 5,
   "metadata": {
    "collapsed": false
   },
   "outputs": [],
   "source": [
    "#define our cost function\n",
    "def cost_function(x_predict,y):\n",
    "    cost = (y*log(x_predict)) + (1-y)*log(1-x_predict)\n",
    "    J = sum(cost) / (x.shape[0])\n",
    "    return cost"
   ]
  },
  {
   "cell_type": "code",
   "execution_count": 6,
   "metadata": {
    "collapsed": false
   },
   "outputs": [],
   "source": [
    "#we create a function that returns the gradient values, given h (x_predict), y and x:\n",
    "def compute_gradient(x_predict, y, x):\n",
    "    dtheta = outer((x_predict - y),x)\n",
    "    return dtheta     "
   ]
  },
  {
   "cell_type": "code",
   "execution_count": null,
   "metadata": {
    "collapsed": false
   },
   "outputs": [],
   "source": []
  },
  {
   "cell_type": "code",
   "execution_count": 26,
   "metadata": {
    "collapsed": false
   },
   "outputs": [
    {
     "name": "stdout",
     "output_type": "stream",
     "text": [
      "correct tests   percentage correctly classified   number of iterations\n",
      "259             87.21                             0\n",
      "260             87.54                             1\n",
      "260             87.54                             2\n",
      "262             88.22                             3\n",
      "262             88.22                             4\n",
      "262             88.22                             5\n",
      "261             87.88                             6\n",
      "261             87.88                             7\n",
      "262             88.22                             8\n",
      "263             88.55                             9\n",
      "264             88.89                             10\n",
      "265             89.23                             11\n",
      "265             89.23                             12\n",
      "265             89.23                             13\n",
      "265             89.23                             14\n",
      "265             89.23                             15\n",
      "265             89.23                             16\n",
      "264             88.89                             17\n",
      "264             88.89                             18\n",
      "265             89.23                             19\n",
      "265             89.23                             20\n",
      "265             89.23                             21\n",
      "266             89.56                             22\n",
      "266             89.56                             23\n",
      "266             89.56                             24\n"
     ]
    },
    {
     "data": {
      "image/png": "[encoded data removed]",
      "text/plain": [
       "<matplotlib.figure.Figure at 0x11a5f49b0>"
      ]
     },
     "metadata": {},
     "output_type": "display_data"
    },
    {
     "name": "stdout",
     "output_type": "stream",
     "text": [
      "the percentage of correctly classified data: 89.56228956228956\n",
      "the yellow graph is the cost of the test set and the blue graph the cost of the training set\n"
     ]
    },
    {
     "data": {
      "text/plain": [
       "[<matplotlib.lines.Line2D at 0x11603d6a0>]"
      ]
     },
     "execution_count": 26,
     "metadata": {},
     "output_type": "execute_result"
    },
    {
     "data": {
      "image/png": "[encoded data removed]",
      "text/plain": [
       "<matplotlib.figure.Figure at 0x11a55de80>"
      ]
     },
     "metadata": {},
     "output_type": "display_data"
    }
   ],
   "source": [
    "#Variables\n",
    "start_iterations = 25\n",
    "theta = np.zeros((64,10))\n",
    "stop_condition = 1\n",
    "cost = 10\n",
    "alpha = 0.01\n",
    "\n",
    "\n",
    "#we reshape our data such that it 3D into 2D. 1500x array \n",
    "x = np.reshape(digits.images[:1500],(1500,64))\n",
    "x_test = np.reshape(digits.images[1500:],(297,64))\n",
    "\n",
    "\n",
    "#These are the target datasets\n",
    "target = digits.target[:1500] #the first 1500 are for the training\n",
    "target_test = digits.target[1500:] #the rest is for the testing\n",
    "\n",
    "\n",
    "\n",
    "def optimaltheta(x, target, theta, iterations, alpha):          #Apply gradient descent and find the optimal values of theta\n",
    "    for i in range(iterations):                                 \n",
    "        cost = 0                                                #we start the cost at 0\n",
    "        for j in range(x.shape[0]):                             \n",
    "            x_predict = prediction_function(x[j,:],theta)       #we compute x_predict for all the iterations we go through\n",
    "            y = np.zeros(10)                                    #we create an \"initial\" y vector of shape(10,) \n",
    "            y[target[j]] = 1                                    #set the right class equal to 1\n",
    "            dtheta = compute_gradient(x_predict, y, x[j,:])     #we compute dtheta using gradient descend, partial derivative of the cost function\n",
    "            \n",
    "            theta = np.add(theta, np.multiply(-(alpha/(x.shape[0])),dtheta.T))   #compute theta                                                \n",
    "    return theta\n",
    "\n",
    "\n",
    "\n",
    "def plotcost(x, target, theta, iterations, alpha):      #create a function to return a list of cost values\n",
    "    cost_list = []                                          #initialize our cost_list           \n",
    "    for i in range(iterations):                               \n",
    "        cost = 0                                            #let the cost start at 0    \n",
    "        for j in range(x.shape[0]):                             \n",
    "            x_predict = prediction_function(x[j,:],theta)   #define x_predict   \n",
    "            y = np.zeros(10)                                #define the \"initial\" zero vector again    \n",
    "               \n",
    "            \n",
    "            y[target[j]] = 1                                #set the right class (right number) equal to 1 \n",
    "            #set the right class (right number) equal to 1\n",
    "            cost += cost_function(x_predict,y)[0]           #sum all the cost of the iterations up together       \n",
    "            \n",
    "    \n",
    "            dtheta = compute_gradient(x_predict, y, x[j,:])  #compute dtheta   \n",
    "            \n",
    "            \n",
    "            theta = np.add(theta, np.multiply(-(alpha/(x.shape[0])),dtheta.T))  #we find our theta that we use computing the cost\n",
    "        cost_list.extend([cost])                                                #we add the cost value that we found in \"this\" iteration to the cost_list\n",
    "    return cost_list\n",
    "\n",
    "\n",
    "\n",
    "def plotcosttest(x,theta):                         #define a function which outputs a list of the cost values of the test set\n",
    "    cost_list_test = []                            #create an initial empty cost list\n",
    "    for i in range(iterations):\n",
    "        cost = 0                                   #set the cost to 0 fist\n",
    "        for j in range(x_test.shape[0]):\n",
    "            x_predict = prediction_function(x[j,:], theta)   #compute x_pedict\n",
    "            y = np.zeros(10)                                  #create an vector with only zeros \n",
    "            y[target[j]] = 1                                  #set the right class (right number) equal to 1\n",
    "            cost += cost_function(x_predict, y)[0]            #sum all the cost of the iterations up together\n",
    "        cost_list_test.extend([cost])                         #add the cost value found in \"this\" iteration to cost_list\n",
    "    return cost_list_test\n",
    "        \n",
    "    \n",
    "def howmanycorrect(x, target, theta):\n",
    "    correct = 0                                               #set the counter correct to 0, we will add to this later\n",
    "    for j in range(x_test.shape[0]):  \n",
    "        x_predict_test = prediction_function(x[j,:], theta)   #compute the prediction function\n",
    "        if x_predict_test.argmax() == target[j]:              #check if the highest prediction is the same as the target\n",
    "            correct += 1                                      #add 1 to correct if the number that x_predict \"predicts\" the number to be, is equal to the number\n",
    "    return correct\n",
    "        \n",
    "accuracy_list = []                                            #initialize the accuracy list \n",
    "iterations = start_iterations\n",
    "\n",
    "print(\"correct tests\", \" \", \"percentage correctly classified\",\" \", \"number of iterations\")\n",
    "for i in range(iterations):\n",
    "    theta = optimaltheta(x, target, theta, iterations, alpha)           #Do the gradient decent in order to find our correct value of theta \n",
    "    correct_tests = howmanycorrect(x_test, target_test, theta)          #Find the amount of correct test using the function we defined earlier\n",
    "    percent = float(correct_tests) / x_test.shape[0] *100               #Calculate the percentage of the correct tests\n",
    "    accuracy_list.append(percent)                                       #Save the percentage for this iteration\n",
    "    print (correct_tests, \"           \", (\"%.2f\" % percent),\"                           \", i) #print the titles of the tables \n",
    "    \n",
    "\n",
    "\n",
    "#In this section of the code we start plotting our graphs \n",
    "\n",
    "iterations_list = []                                         #initialize our iterations list\n",
    "for i in range(iterations): \n",
    "    iterations_list.append(i)                                #we append the number of iterations to the iterations list\n",
    "    \n",
    "plt.plot(range(iterations), accuracy_list)                   #we plot the iterations to the accuracy\n",
    "plt.show()    \n",
    "\n",
    "\n",
    "print(\"the percentage of correctly classified data:\", percent) #print the final percentage of good classifications\n",
    "\n",
    "#now we want to plot the cost for the test \n",
    "costtrain = plotcost(x, target, theta, iterations, alpha)  #\"calculate\" the list of costs for the training set           \n",
    "print(\"the yellow graph is the cost of the test set and the blue graph the cost of the training set\")\n",
    "plt.plot(np.arange(iterations), costtrain)                  #plot the cost over the number of iterations\n",
    "costtest = plotcosttest(x,theta)                            #\"calculate\" the list of costs for the test set\n",
    "plt.plot(np.arange(iterations), costtest)                   #plot the cost of the training set over the number of iterations\n",
    "        \n",
    "\n",
    "    \n"
   ]
  },
  {
   "cell_type": "markdown",
   "metadata": {},
   "source": [
    "# Correct stopcondition"
   ]
  },
  {
   "cell_type": "markdown",
   "metadata": {},
   "source": [
    "In this algorithm we do not have to use an stop condition. We do not need this as we are computing the cost withing a while loop, already indication when we need to stop calculating the cost. Moreover, we see that the cost does not change much over time, and therefore, it could be the case that the stop condition is never reached. "
   ]
  },
  {
   "cell_type": "markdown",
   "metadata": {},
   "source": [
    "# Preventing overfitting"
   ]
  },
  {
   "cell_type": "markdown",
   "metadata": {},
   "source": [
    "we see that the cost of the test set (the yellow graph) is already almost zero. Therefore it is not necessercy to perform regularization, as we do not have overfitting. It makes sense that the cost of the test set is constant, as we do not update theta here, so theta is constant, so nothing changes in the cost function. However, outstanding is that the cost for the training set is almost equal to 0. We see that the cost of the training set only gets a little lower. This makes sense as our accuracy also gets just a little better over the interations. Apperently, our we do not have to update our theta's very much. The little difference in the theta's is reflected in the little difference in the cost function of the training set. "
   ]
  },
  {
   "cell_type": "markdown",
   "metadata": {
    "collapsed": true
   },
   "source": [
    "# Systematically choose a learning rate "
   ]
  },
  {
   "cell_type": "code",
   "execution_count": 23,
   "metadata": {
    "collapsed": false
   },
   "outputs": [
    {
     "data": {
      "text/plain": [
       "[<matplotlib.lines.Line2D at 0x11a520780>]"
      ]
     },
     "execution_count": 23,
     "metadata": {},
     "output_type": "execute_result"
    },
    {
     "data": {
      "image/png": "[encoded data removed]",
      "text/plain": [
       "<matplotlib.figure.Figure at 0x1162160f0>"
      ]
     },
     "metadata": {},
     "output_type": "display_data"
    }
   ],
   "source": [
    "#to find the best alphas we plot the cost function \n",
    "costtrain1 = plotcost(x, target, theta, 25, 0.01)   #take alpha = 0.01\n",
    "plt.plot(np.arange(iterations), costtrain1)\n",
    "costtrain2 = plotcost(x, target, theta, 25, 0.001)  #take alpha = 0.01\n",
    "plt.plot(np.arange(iterations), costtrain2)\n",
    "costtrain3 = plotcost(x, target, theta, 25, 1)      #take alpha = 1\n",
    "plt.plot(np.arange(iterations), costtrain3)\n",
    "costtrain4 = plotcost(x, target, theta, 25, 2)      #take alpha = 2\n",
    "plt.plot(np.arange(iterations), costtrain4)\n",
    "costtrain5 = plotcost(x, target, theta, 25, 3)      #take alpha = 3\n",
    "plt.plot(np.arange(iterations), costtrain5)\n",
    "costtrain6 = plotcost(x, target, theta, 25, 4)      #take alpha = 4\n",
    "plt.plot(np.arange(iterations), costtrain6)"
   ]
  },
  {
   "cell_type": "markdown",
   "metadata": {},
   "source": [
    "In this graph, we see that the green line represents the cost for alpha = 0.01. We see that all the costs go to 0, so it seems as if we would need to choose the graph which goes fastest to 0, so brown in this case. However, we see that this graph has a high cost in the beginning. Therefore it is better to take the green graph, so alpha = 0.01, as the cost in total is smaller. We also see this when we plug in different values for alpha, we see that for alpha = 0.01 the accuracy is much higher than when we plug in alpha = 4. "
   ]
  },
  {
   "cell_type": "markdown",
   "metadata": {},
   "source": [
    "# Best score analysis\n",
    "            "
   ]
  },
  {
   "cell_type": "markdown",
   "metadata": {},
   "source": [
    "In the table and in plot 1 we see that the maximum percentage of accuracy is 87.88. We optain this percentage when we have 10 iterations and when we have 19 tm 23 iterations. We can also see this in the graph, we indeed see that there is a peek at 10 iterations, and a \"flat peek\" at 19 tm 23 iterations. "
   ]
  },
  {
   "cell_type": "markdown",
   "metadata": {},
   "source": [
    "# Summary"
   ]
  },
  {
   "cell_type": "markdown",
   "metadata": {},
   "source": [
    "In this function I have written a code to implement logestic regresion to our data set, in order rightly classify the handwritten numbers. I implemented the function x_predict, which is the hypothesis function, which predicts \"the chances of a certain data set to be a certain number. Then we computed our optimal theta's in a while loop using gradient descend. we let our while loop go through all the 1500 different arrays with data of x (shape of x is (1500,64), where the 64 represents \"values that we assign to the digits\" , and a number consists of 64 digits. We thus have 1500 different \"examples\" and we range through all of them.\n",
    "\n",
    "Then we compute the costst of each iteration in the training phase, and all apend them in a list cost_list. We do the same for the costst in the test phase and append them in a list cost_test_list. Then we define the function \"howmanycorrect\", which counts how many times the prediction function actually predicts the \"right number\". \n",
    "\n",
    "We then finally actually compute the optimal value of theta, which we use to compute how many of the tests are correct. Then we compute the percentage of the number of correctly classified tests. We append these percenteges to an initially empty list accuacy_list. \n",
    "\n",
    "Then we start plotting our graphs. We first print the table with the number of correct tests, the percentage of correct tests, and the number of iterations. The we plot the number of iterations against the percentage of correctly classified tests. Afterwards we plot the costst of the training phase and the test phase against the number of iterations.\n",
    "\n",
    "Finally, we plot the costst for different values of alpha, so we determine what is our optimal alpha \n",
    "\n",
    "\n",
    "\n",
    "\n"
   ]
  },
  {
   "cell_type": "markdown",
   "metadata": {},
   "source": [
    "Lars Kouwenhoven and I worked on our codes together. Therefore, our codes might be similar, however, we both created our own codes. "
   ]
  },
  {
   "cell_type": "code",
   "execution_count": null,
   "metadata": {
    "collapsed": true
   },
   "outputs": [],
   "source": []
  },
  {
   "cell_type": "code",
   "execution_count": null,
   "metadata": {
    "collapsed": true
   },
   "outputs": [],
   "source": []
  }
 ],
 "metadata": {
  "anaconda-cloud": {},
  "celltoolbar": "Raw Cell Format",
  "kernelspec": {
   "display_name": "Python 3",
   "language": "python",
   "name": "python3"
  },
  "language_info": {
   "codemirror_mode": {
    "name": "ipython",
    "version": 3
   },
   "file_extension": ".py",
   "mimetype": "text/x-python",
   "name": "python",
   "nbconvert_exporter": "python",
   "pygments_lexer": "ipython3",
   "version": "3.6.0"
  }
 },
 "nbformat": 4,
 "nbformat_minor": 0
}
