{
 "cells": [
  {
   "cell_type": "markdown",
   "metadata": {},
   "source": [
    "# AUC ML LabExercise: k - Nearest Neighbours \n",
    "Ungraded exercise, deadline Thursday 9 November, 23:59.\n"
   ]
  },
  {
   "cell_type": "code",
   "execution_count": 1,
   "metadata": {
    "collapsed": false
   },
   "outputs": [
    {
     "name": "stdout",
     "output_type": "stream",
     "text": [
      "Populating the interactive namespace from numpy and matplotlib\n"
     ]
    }
   ],
   "source": [
    "%pylab inline"
   ]
  },
  {
   "cell_type": "markdown",
   "metadata": {},
   "source": [
    "In this notebook you will implement the k-Nearest Neighbour classifier.\n",
    "\n",
    "The step-wise recipe for k-nn:\n",
    "\n",
    "(1) Handle Data: Open the dataset from CSV and split into test/train datasets.\n",
    "\n",
    "(2) Similarity: Calculate the distance between two data instances.\n",
    "\n",
    "(3) Neighbors: Locate k most similar data instances.\n",
    "\n",
    "(4) Majority vote: Get the neighbours to vote on the class of the test points.\n",
    "\n",
    "(5) Accuracy: Summarize the accuracy of predictions.\n",
    "\n",
    "\n",
    "We provide the main function that brings all the steps together and your task is to implement the missing functions.\n"
   ]
  },
  {
   "cell_type": "code",
   "execution_count": 18,
   "metadata": {
    "collapsed": false
   },
   "outputs": [
    {
     "name": "stdout",
     "output_type": "stream",
     "text": [
      "Predicted label=0, Actual label=0\n",
      "Predicted label=1, Actual label=1\n",
      "Predicted label=0, Actual label=0\n",
      "Predicted label=2, Actual label=2\n",
      "Predicted label=0, Actual label=0\n",
      "Predicted label=0, Actual label=0\n",
      "Predicted label=0, Actual label=0\n",
      "Predicted label=1, Actual label=1\n",
      "Predicted label=2, Actual label=2\n",
      "Predicted label=0, Actual label=0\n",
      "Predicted label=1, Actual label=1\n",
      "Predicted label=0, Actual label=0\n",
      "Predicted label=0, Actual label=0\n",
      "Predicted label=2, Actual label=1\n",
      "Predicted label=2, Actual label=2\n",
      "Predicted label=1, Actual label=1\n",
      "Predicted label=0, Actual label=0\n",
      "Predicted label=1, Actual label=1\n",
      "Predicted label=1, Actual label=1\n",
      "Predicted label=0, Actual label=0\n",
      "Predicted label=0, Actual label=0\n",
      "Predicted label=1, Actual label=1\n",
      "Predicted label=2, Actual label=2\n",
      "Predicted label=0, Actual label=0\n",
      "Predicted label=0, Actual label=0\n",
      "Predicted label=0, Actual label=0\n",
      "Predicted label=1, Actual label=1\n",
      "Predicted label=0, Actual label=0\n",
      "Predicted label=1, Actual label=1\n",
      "Predicted label=2, Actual label=2\n",
      "Predicted label=1, Actual label=1\n",
      "Predicted label=1, Actual label=1\n",
      "Predicted label=2, Actual label=2\n",
      "Predicted label=2, Actual label=2\n",
      "Predicted label=0, Actual label=0\n",
      "Predicted label=2, Actual label=2\n",
      "Predicted label=2, Actual label=2\n",
      "Predicted label=0, Actual label=0\n",
      "Predicted label=1, Actual label=1\n",
      "Predicted label=2, Actual label=2\n",
      "Predicted label=2, Actual label=2\n",
      "Predicted label=0, Actual label=0\n",
      "Predicted label=0, Actual label=0\n",
      "Predicted label=1, Actual label=1\n",
      "Predicted label=0, Actual label=0\n",
      "Predicted label=2, Actual label=2\n",
      "Predicted label=2, Actual label=2\n",
      "Predicted label=2, Actual label=1\n",
      "Predicted label=0, Actual label=0\n",
      "Predicted label=0, Actual label=0\n",
      "Predicted label=1, Actual label=1\n",
      "Predicted label=2, Actual label=2\n",
      "Predicted label=0, Actual label=0\n",
      "Predicted label=1, Actual label=1\n",
      "Predicted label=1, Actual label=1\n",
      "Predicted label=2, Actual label=2\n",
      "Predicted label=1, Actual label=1\n",
      "Predicted label=2, Actual label=2\n",
      "Predicted label=1, Actual label=1\n",
      "Predicted label=1, Actual label=1\n",
      "\n",
      "The overall accuracy of the model is: 0.966666666667\n",
      "\n"
     ]
    }
   ],
   "source": [
    "#In this notebook we will work with the Iris dataset again\n",
    "#First we import all the modules that you need for this exrecise\n",
    "from sklearn import datasets # to load the dataset\n",
    "from sklearn.model_selection import train_test_split #to split in train and test set\n",
    "from sklearn.model_selection import cross_val_score #BONUS\n",
    "from sklearn.metrics import classification_report, accuracy_score # for reporting\n",
    "from scipy.spatial import distance #to calculate the Euclidean distance\n",
    "from collections import Counter #to count unique occurances of items in array, for majority voting\n",
    "import numpy as np\n",
    "\n",
    "\n",
    "# Missing function  1) given a training set and a test instance use \n",
    "# the euclidian distance function to calculate all pairwise distances.\n",
    "# Return a list with indexes of k nearest neighbours for a given test instance.\n",
    "def get_neighbours(training_set, test_instance, k):\n",
    "    # Calculate distances from test_instance to all training points, use the euclidean() function.\n",
    "    # Remember to save not only distances but also the index of the training example,\n",
    "    # so that when you want to choose k closest ones, you actually know which examples those are.\n",
    "    l = []\n",
    "    for x in range(len(training_set)):\n",
    "        dist = distance.euclidean(training_set[x], test_instance)\n",
    "        l.append(dist)\n",
    "    sort = np.argsort(l)\n",
    "    best = sort[:3]\n",
    "    return best \n",
    "\n",
    "# Missing function 2) given an array of nearest neighbours indices, \n",
    "# tally up their classes to vote on test case class. \n",
    "# Retun the label of most common class.\n",
    "def get_majority_vote(neighbours, y_train):\n",
    "    # You can use the Counter() function to count unique occurances of items in array. \n",
    "    # And also a method of Counter(), to take a most common one. \n",
    "    # index 1 is the class\n",
    "    classes = [y_train[neighbours[0]], y_train[neighbours[1]], y_train[neighbours[2]]]\n",
    "    count = Counter(classes)\n",
    "    return count.most_common()[0][0]\n",
    "    \n",
    "    \n",
    "# setting up main executable method\n",
    "def main():\n",
    " \n",
    "    # load the data and create the training and test sets\n",
    "    iris = datasets.load_iris()\n",
    "    #print(iris)\n",
    "    X_train, X_test, y_train, y_test = train_test_split(iris.data, iris.target, test_size=0.4) \n",
    "\n",
    "    # generate predictions\n",
    "    predictions = []\n",
    " \n",
    "    # let's arbitrarily set k equal to 3, see BONUS question\n",
    "    k = 3   \n",
    "    \n",
    "    # for each instance in the test set, get nearest neighbours and majority vote on predicted class\n",
    "    for x in range(len(X_test)):\n",
    "        \n",
    "            #print('Classifying test instance number ' + str(x) + \":\")\n",
    "            neighbours = get_neighbours(X_train, X_test[x], k)\n",
    "            majority_vote = get_majority_vote(neighbours, y_train)\n",
    "            predictions.append(majority_vote)\n",
    "            print('Predicted label=' + str(majority_vote) + ', Actual label=' + str(y_test[x]))\n",
    " \n",
    "    # summarize performance of the classification\n",
    "    print('\\nThe overall accuracy of the model is: ' + str(accuracy_score(y_test, predictions)) + \"\\n\")\n",
    "    \n",
    "    #BONUS: study function classification_report to find out how to produce \n",
    "    #       a detailes classification report\n",
    "    #       report = classification_report(...)\n",
    "    #       print('A detailed classification report: \\n\\n' + report)\n",
    "    \n",
    "    \n",
    "    # BONUS: in this implementation we arbitrarily chose k=3. \n",
    "    #        We could have chosen other values, which would influence accuracy. \n",
    "    #        Ideally, k would be optimized by seeing which value \n",
    "    #        produces the most accurate predictions. \n",
    "    #        Implement this using cross-validation. \n",
    "\n",
    "main()\n",
    "\n"
   ]
  },
  {
   "cell_type": "code",
   "execution_count": null,
   "metadata": {
    "collapsed": false
   },
   "outputs": [],
   "source": []
  },
  {
   "cell_type": "code",
   "execution_count": null,
   "metadata": {
    "collapsed": false
   },
   "outputs": [],
   "source": []
  },
  {
   "cell_type": "code",
   "execution_count": null,
   "metadata": {
    "collapsed": false
   },
   "outputs": [],
   "source": []
  },
  {
   "cell_type": "code",
   "execution_count": null,
   "metadata": {
    "collapsed": true
   },
   "outputs": [],
   "source": []
  }
 ],
 "metadata": {
  "kernelspec": {
   "display_name": "Python 3",
   "language": "python",
   "name": "python3"
  },
  "language_info": {
   "codemirror_mode": {
    "name": "ipython",
    "version": 3
   },
   "file_extension": ".py",
   "mimetype": "text/x-python",
   "name": "python",
   "nbconvert_exporter": "python",
   "pygments_lexer": "ipython3",
   "version": "3.6.0"
  }
 },
 "nbformat": 4,
 "nbformat_minor": 2
}
